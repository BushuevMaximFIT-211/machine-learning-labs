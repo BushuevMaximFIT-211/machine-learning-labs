{
 "cells": [
  {
   "cell_type": "code",
   "execution_count": 38,
   "metadata": {},
   "outputs": [],
   "source": [
    "import numpy as np\n",
    "from sklearn.metrics import accuracy_score, confusion_matrix, precision_score, recall_score, f1_score"
   ]
  },
  {
   "cell_type": "code",
   "execution_count": 39,
   "metadata": {},
   "outputs": [],
   "source": [
    "class MetricsClassification:\n",
    "    @staticmethod\n",
    "    def accuracy(y_test, y_pred):\n",
    "        y_true, predictions = np.array(y_test), np.array(y_pred)\n",
    "        return len([x for x, y  in zip(y_true, predictions) if x  == y])/len(y_true)\n",
    "    \n",
    "    @staticmethod\n",
    "    def confusion_matrix(y_test, y_pred):\n",
    "        y_true, predictions = np.array(y_test), np.array(y_pred)\n",
    "        TP = FP =TN =FN = 0\n",
    "        for test, pred in zip(y_true, predictions):\n",
    "            if (test == 1 and pred == 1):\n",
    "                TP += 1 \n",
    "            elif (test == 0 and pred == 0):\n",
    "                TN += 1\n",
    "            elif (test == 1 and pred == 0):\n",
    "                FN += 1\n",
    "            elif (test == 0 and pred == 1):\n",
    "                FP += 1\n",
    "        return [[TP, FP],\n",
    "                         [FN, TN]]\n",
    "    @staticmethod\n",
    "    def precision( y_test, y_pred):\n",
    "        matrix = MetricsClassification.confusion_matrix(y_test, y_pred)\n",
    "        TP = matrix[0][0]\n",
    "        FP = matrix[0][1]\n",
    "        return TP/(TP + FP)\n",
    "    @staticmethod\n",
    "    def recall(y_test, y_pred):\n",
    "        matrix = MetricsClassification.confusion_matrix(y_test, y_pred)\n",
    "        TP = matrix[0][0]\n",
    "        FN = matrix[1][0]\n",
    "        return TP/(TP + FN)\n",
    "    \n",
    "    @staticmethod\n",
    "    def f_score(y_test, y_pred):\n",
    "        recall_score = MetricsClassification.recall(y_test, y_pred)\n",
    "        precision_score = MetricsClassification.precision(y_test, y_pred)\n",
    "        return 2*(recall_score * precision_score)/ (recall_score+precision_score)\n",
    "\n",
    "\n",
    "\n",
    "\n"
   ]
  },
  {
   "cell_type": "code",
   "execution_count": 42,
   "metadata": {},
   "outputs": [
    {
     "name": "stdout",
     "output_type": "stream",
     "text": [
      "[1 0 0 0 0 0 1 1 1 0]\n",
      "[0 1 0 1 0 1 0 0 1 1]\n",
      "0.3\n",
      "0.3\n",
      "[[1, 4], [3, 2]]\n",
      "[[2 4]\n",
      " [3 1]]\n",
      "0.2\n",
      "0.2\n",
      "0.25\n",
      "0.25\n",
      "0.22222222222222224\n",
      "0.22222222222222224\n"
     ]
    }
   ],
   "source": [
    "a1 = np.random.randint(2, size=10)\n",
    "a2 = np.random.randint(2, size=10)\n",
    "print(a1)\n",
    "print(a2)\n",
    "print(MetricsClassification.accuracy(a1, a2))\n",
    "print(accuracy_score(a1, a2))\n",
    "print(MetricsClassification.confusion_matrix(a1, a2))\n",
    "print(confusion_matrix(a1, a2))\n",
    "\n",
    "print(MetricsClassification.precision(a1, a2))\n",
    "print(precision_score(a1, a2))\n",
    "print(MetricsClassification.recall(a1, a2))\n",
    "print(recall_score(a1, a2))\n",
    "print(MetricsClassification.f_score(a1, a2))\n",
    "print(f1_score(a1, a2))"
   ]
  }
 ],
 "metadata": {
  "kernelspec": {
   "display_name": "venv",
   "language": "python",
   "name": "python3"
  },
  "language_info": {
   "codemirror_mode": {
    "name": "ipython",
    "version": 3
   },
   "file_extension": ".py",
   "mimetype": "text/x-python",
   "name": "python",
   "nbconvert_exporter": "python",
   "pygments_lexer": "ipython3",
   "version": "3.9.6"
  },
  "orig_nbformat": 4
 },
 "nbformat": 4,
 "nbformat_minor": 2
}
