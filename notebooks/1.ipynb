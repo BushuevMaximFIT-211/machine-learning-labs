{
 "cells": [
  {
   "cell_type": "markdown",
   "id": "43dfc1f0",
   "metadata": {},
   "source": [
    "# Лабораторная работа 1. Введение в машинное обучение. Обучение с учителем. Задача регрессии"
   ]
  },
  {
   "cell_type": "markdown",
   "id": "af0b0580",
   "metadata": {},
   "source": [
    "<b>Традиционное предупреждение для всех лабораторных работ:</b> перед обучением моделей необходимо выполнить предварительную обработку данных, которая <b>обязательно</b> включает в себя:\n",
    "- заполнение пропущенных значений (рекомедуется логика заполнения пропусков на основе типа данных, которая использовалась в РГР по Практикуму);\n",
    "- преобразование категориальных признаков в числовые (используйте one-hot кодирование или map; используйте знания с Практикума)."
   ]
  },
  {
   "cell_type": "markdown",
   "id": "b08d9e23",
   "metadata": {},
   "source": [
    "Предобработка может включать в себя другие действия, но выполнение описанных выше действий обязательно."
   ]
  },
  {
   "cell_type": "markdown",
   "id": "05aab9d1",
   "metadata": {},
   "source": [
    "Сделайте это один раз и сохраните в отдельный csv файл, а потом его используйте."
   ]
  },
  {
   "attachments": {},
   "cell_type": "markdown",
   "id": "e053af5b",
   "metadata": {},
   "source": [
    "<b>Выполните следующие задания:</b>\n",
    "- загрузите датасет для регрессии, выделите целевой признак и предикторы, разбейте данные на обучающую и тестовую выборку;\n",
    "- решите задачу регрессии на ваших данных с использованием моделей sklearn (линейная регрессия + L1, L2), для моделей с регуляризациями подберите гиперпараметр;\n",
    "- решите задачу регрессии на ваших данных с использованием моделей sklearn (полиномиальная регрессия + L1, L2), для моделей с регуляризациями подберите гиперпараметр;\n",
    "- вычислите значения метрик $R^2$, MAE, MSE, RMSE, MAPE для всех обученных моделей; выберите лучшую модель;\n",
    "- самостоятельно реализуйте (желательно в виде класса) модель линейной регрессии с регуляризацией (можете выбрать L1 или L2);\n",
    "- самостоятельно реализуйте вычисление всех используемых метрик (в виде функций, принимающих два аргумента);\n",
    "- обучите вашу модель линейной регрессии на ваших данных; оцените качество с помощью реализованных вами метрик."
   ]
  },
  {
   "cell_type": "code",
   "execution_count": 903,
   "id": "f500beec",
   "metadata": {},
   "outputs": [],
   "source": [
    "import pandas as pd\n",
    "from sklearn.model_selection import train_test_split\n",
    "from sklearn.linear_model import LinearRegression, Lasso, Ridge\n",
    "from sklearn.metrics import mean_squared_error, mean_absolute_error, mean_absolute_percentage_error, r2_score\n",
    "from math import sqrt\n",
    "from sklearn.model_selection import GridSearchCV, RandomizedSearchCV\n",
    "import numpy as np\n",
    "from sklearn.preprocessing import PolynomialFeatures\n",
    "import matplotlib.pyplot as plt"
   ]
  },
  {
   "cell_type": "code",
   "execution_count": 904,
   "id": "14befecc",
   "metadata": {},
   "outputs": [
    {
     "data": {
      "text/html": [
       "<div>\n",
       "<style scoped>\n",
       "    .dataframe tbody tr th:only-of-type {\n",
       "        vertical-align: middle;\n",
       "    }\n",
       "\n",
       "    .dataframe tbody tr th {\n",
       "        vertical-align: top;\n",
       "    }\n",
       "\n",
       "    .dataframe thead th {\n",
       "        text-align: right;\n",
       "    }\n",
       "</style>\n",
       "<table border=\"1\" class=\"dataframe\">\n",
       "  <thead>\n",
       "    <tr style=\"text-align: right;\">\n",
       "      <th></th>\n",
       "      <th>passenger_count</th>\n",
       "      <th>pickup_longitude</th>\n",
       "      <th>pickup_latitude</th>\n",
       "      <th>dropoff_longitude</th>\n",
       "      <th>dropoff_latitude</th>\n",
       "      <th>trip_duration</th>\n",
       "    </tr>\n",
       "  </thead>\n",
       "  <tbody>\n",
       "    <tr>\n",
       "      <th>passenger_count</th>\n",
       "      <td>1.000000</td>\n",
       "      <td>0.007919</td>\n",
       "      <td>-0.008300</td>\n",
       "      <td>0.001692</td>\n",
       "      <td>-0.005364</td>\n",
       "      <td>0.007716</td>\n",
       "    </tr>\n",
       "    <tr>\n",
       "      <th>pickup_longitude</th>\n",
       "      <td>0.007919</td>\n",
       "      <td>1.000000</td>\n",
       "      <td>-0.147094</td>\n",
       "      <td>0.273100</td>\n",
       "      <td>0.042711</td>\n",
       "      <td>0.052203</td>\n",
       "    </tr>\n",
       "    <tr>\n",
       "      <th>pickup_latitude</th>\n",
       "      <td>-0.008300</td>\n",
       "      <td>-0.147094</td>\n",
       "      <td>1.000000</td>\n",
       "      <td>0.053645</td>\n",
       "      <td>0.430459</td>\n",
       "      <td>-0.037986</td>\n",
       "    </tr>\n",
       "    <tr>\n",
       "      <th>dropoff_longitude</th>\n",
       "      <td>0.001692</td>\n",
       "      <td>0.273100</td>\n",
       "      <td>0.053645</td>\n",
       "      <td>1.000000</td>\n",
       "      <td>0.134767</td>\n",
       "      <td>0.029849</td>\n",
       "    </tr>\n",
       "    <tr>\n",
       "      <th>dropoff_latitude</th>\n",
       "      <td>-0.005364</td>\n",
       "      <td>0.042711</td>\n",
       "      <td>0.430459</td>\n",
       "      <td>0.134767</td>\n",
       "      <td>1.000000</td>\n",
       "      <td>-0.021712</td>\n",
       "    </tr>\n",
       "    <tr>\n",
       "      <th>trip_duration</th>\n",
       "      <td>0.007716</td>\n",
       "      <td>0.052203</td>\n",
       "      <td>-0.037986</td>\n",
       "      <td>0.029849</td>\n",
       "      <td>-0.021712</td>\n",
       "      <td>1.000000</td>\n",
       "    </tr>\n",
       "  </tbody>\n",
       "</table>\n",
       "</div>"
      ],
      "text/plain": [
       "                   passenger_count  pickup_longitude  pickup_latitude  \\\n",
       "passenger_count           1.000000          0.007919        -0.008300   \n",
       "pickup_longitude          0.007919          1.000000        -0.147094   \n",
       "pickup_latitude          -0.008300         -0.147094         1.000000   \n",
       "dropoff_longitude         0.001692          0.273100         0.053645   \n",
       "dropoff_latitude         -0.005364          0.042711         0.430459   \n",
       "trip_duration             0.007716          0.052203        -0.037986   \n",
       "\n",
       "                   dropoff_longitude  dropoff_latitude  trip_duration  \n",
       "passenger_count             0.001692         -0.005364       0.007716  \n",
       "pickup_longitude            0.273100          0.042711       0.052203  \n",
       "pickup_latitude             0.053645          0.430459      -0.037986  \n",
       "dropoff_longitude           1.000000          0.134767       0.029849  \n",
       "dropoff_latitude            0.134767          1.000000      -0.021712  \n",
       "trip_duration               0.029849         -0.021712       1.000000  "
      ]
     },
     "execution_count": 904,
     "metadata": {},
     "output_type": "execute_result"
    }
   ],
   "source": [
    "data= pd.read_csv(\"../data/trip_duration_task.csv\")\n",
    "data = data.head(170000)\n",
    "data.drop(['id','pickup_datetime', 'dropoff_datetime', 'vendor_id' ], axis=1, inplace=True)\n",
    "data.drop_duplicates(inplace=True)\n",
    "data.dropna(inplace=True)\n",
    "data.corr()"
   ]
  },
  {
   "cell_type": "code",
   "execution_count": 905,
   "id": "90cb46f7",
   "metadata": {},
   "outputs": [
    {
     "name": "stdout",
     "output_type": "stream",
     "text": [
      "<class 'pandas.core.frame.DataFrame'>\n",
      "Int64Index: 169540 entries, 0 to 169999\n",
      "Data columns (total 6 columns):\n",
      " #   Column             Non-Null Count   Dtype  \n",
      "---  ------             --------------   -----  \n",
      " 0   passenger_count    169540 non-null  int64  \n",
      " 1   pickup_longitude   169540 non-null  float64\n",
      " 2   pickup_latitude    169540 non-null  float64\n",
      " 3   dropoff_longitude  169540 non-null  float64\n",
      " 4   dropoff_latitude   169540 non-null  float64\n",
      " 5   trip_duration      169540 non-null  int64  \n",
      "dtypes: float64(4), int64(2)\n",
      "memory usage: 9.1 MB\n"
     ]
    }
   ],
   "source": [
    "data.info()"
   ]
  },
  {
   "cell_type": "markdown",
   "id": "a5b51477",
   "metadata": {},
   "source": [
    "Предобработка данных"
   ]
  },
  {
   "cell_type": "markdown",
   "id": "73570f23",
   "metadata": {},
   "source": [
    "1) Убрал строки с null-value в столбце \"vendor_id\"\n",
    "2) Заполнил строки с null-value в столбце \"pickup_latitude\""
   ]
  },
  {
   "cell_type": "code",
   "execution_count": 906,
   "id": "ec420378",
   "metadata": {},
   "outputs": [],
   "source": [
    "y = data['trip_duration']\n",
    "X = data.drop(['trip_duration'], axis=1)\n",
    "\n"
   ]
  },
  {
   "cell_type": "code",
   "execution_count": 907,
   "id": "4dfd3390",
   "metadata": {},
   "outputs": [
    {
     "data": {
      "text/plain": [
       "0          400\n",
       "1         1100\n",
       "2         1635\n",
       "3         1141\n",
       "4          848\n",
       "          ... \n",
       "169995     183\n",
       "169996     534\n",
       "169997    1221\n",
       "169998     551\n",
       "169999    1589\n",
       "Name: trip_duration, Length: 169540, dtype: int64"
      ]
     },
     "execution_count": 907,
     "metadata": {},
     "output_type": "execute_result"
    }
   ],
   "source": [
    "y"
   ]
  },
  {
   "cell_type": "code",
   "execution_count": 908,
   "id": "949dbe69",
   "metadata": {},
   "outputs": [
    {
     "data": {
      "text/html": [
       "<div>\n",
       "<style scoped>\n",
       "    .dataframe tbody tr th:only-of-type {\n",
       "        vertical-align: middle;\n",
       "    }\n",
       "\n",
       "    .dataframe tbody tr th {\n",
       "        vertical-align: top;\n",
       "    }\n",
       "\n",
       "    .dataframe thead th {\n",
       "        text-align: right;\n",
       "    }\n",
       "</style>\n",
       "<table border=\"1\" class=\"dataframe\">\n",
       "  <thead>\n",
       "    <tr style=\"text-align: right;\">\n",
       "      <th></th>\n",
       "      <th>passenger_count</th>\n",
       "      <th>pickup_longitude</th>\n",
       "      <th>pickup_latitude</th>\n",
       "      <th>dropoff_longitude</th>\n",
       "      <th>dropoff_latitude</th>\n",
       "    </tr>\n",
       "  </thead>\n",
       "  <tbody>\n",
       "    <tr>\n",
       "      <th>0</th>\n",
       "      <td>1</td>\n",
       "      <td>-73.953918</td>\n",
       "      <td>40.778873</td>\n",
       "      <td>-73.963875</td>\n",
       "      <td>40.771164</td>\n",
       "    </tr>\n",
       "    <tr>\n",
       "      <th>1</th>\n",
       "      <td>2</td>\n",
       "      <td>-73.988312</td>\n",
       "      <td>40.731743</td>\n",
       "      <td>-73.994751</td>\n",
       "      <td>40.694931</td>\n",
       "    </tr>\n",
       "    <tr>\n",
       "      <th>2</th>\n",
       "      <td>2</td>\n",
       "      <td>-73.997314</td>\n",
       "      <td>40.721458</td>\n",
       "      <td>-73.948029</td>\n",
       "      <td>40.774918</td>\n",
       "    </tr>\n",
       "    <tr>\n",
       "      <th>3</th>\n",
       "      <td>6</td>\n",
       "      <td>-73.961670</td>\n",
       "      <td>40.759720</td>\n",
       "      <td>-73.956779</td>\n",
       "      <td>40.780628</td>\n",
       "    </tr>\n",
       "    <tr>\n",
       "      <th>4</th>\n",
       "      <td>1</td>\n",
       "      <td>-74.017120</td>\n",
       "      <td>40.708469</td>\n",
       "      <td>-73.988182</td>\n",
       "      <td>40.740631</td>\n",
       "    </tr>\n",
       "    <tr>\n",
       "      <th>...</th>\n",
       "      <td>...</td>\n",
       "      <td>...</td>\n",
       "      <td>...</td>\n",
       "      <td>...</td>\n",
       "      <td>...</td>\n",
       "    </tr>\n",
       "    <tr>\n",
       "      <th>169995</th>\n",
       "      <td>1</td>\n",
       "      <td>-73.999718</td>\n",
       "      <td>40.679214</td>\n",
       "      <td>-73.994370</td>\n",
       "      <td>40.686272</td>\n",
       "    </tr>\n",
       "    <tr>\n",
       "      <th>169996</th>\n",
       "      <td>1</td>\n",
       "      <td>-73.978210</td>\n",
       "      <td>40.752140</td>\n",
       "      <td>-73.984535</td>\n",
       "      <td>40.736977</td>\n",
       "    </tr>\n",
       "    <tr>\n",
       "      <th>169997</th>\n",
       "      <td>2</td>\n",
       "      <td>-73.991982</td>\n",
       "      <td>40.738674</td>\n",
       "      <td>-74.009193</td>\n",
       "      <td>40.710205</td>\n",
       "    </tr>\n",
       "    <tr>\n",
       "      <th>169998</th>\n",
       "      <td>1</td>\n",
       "      <td>-73.970970</td>\n",
       "      <td>40.798481</td>\n",
       "      <td>-73.988731</td>\n",
       "      <td>40.768250</td>\n",
       "    </tr>\n",
       "    <tr>\n",
       "      <th>169999</th>\n",
       "      <td>1</td>\n",
       "      <td>-73.917824</td>\n",
       "      <td>40.743179</td>\n",
       "      <td>-73.986427</td>\n",
       "      <td>40.746063</td>\n",
       "    </tr>\n",
       "  </tbody>\n",
       "</table>\n",
       "<p>169540 rows × 5 columns</p>\n",
       "</div>"
      ],
      "text/plain": [
       "        passenger_count  pickup_longitude  pickup_latitude  dropoff_longitude  \\\n",
       "0                     1        -73.953918        40.778873         -73.963875   \n",
       "1                     2        -73.988312        40.731743         -73.994751   \n",
       "2                     2        -73.997314        40.721458         -73.948029   \n",
       "3                     6        -73.961670        40.759720         -73.956779   \n",
       "4                     1        -74.017120        40.708469         -73.988182   \n",
       "...                 ...               ...              ...                ...   \n",
       "169995                1        -73.999718        40.679214         -73.994370   \n",
       "169996                1        -73.978210        40.752140         -73.984535   \n",
       "169997                2        -73.991982        40.738674         -74.009193   \n",
       "169998                1        -73.970970        40.798481         -73.988731   \n",
       "169999                1        -73.917824        40.743179         -73.986427   \n",
       "\n",
       "        dropoff_latitude  \n",
       "0              40.771164  \n",
       "1              40.694931  \n",
       "2              40.774918  \n",
       "3              40.780628  \n",
       "4              40.740631  \n",
       "...                  ...  \n",
       "169995         40.686272  \n",
       "169996         40.736977  \n",
       "169997         40.710205  \n",
       "169998         40.768250  \n",
       "169999         40.746063  \n",
       "\n",
       "[169540 rows x 5 columns]"
      ]
     },
     "execution_count": 908,
     "metadata": {},
     "output_type": "execute_result"
    }
   ],
   "source": [
    "X"
   ]
  },
  {
   "cell_type": "code",
   "execution_count": 909,
   "id": "81f581bc",
   "metadata": {},
   "outputs": [],
   "source": [
    "X_train, X_test, y_train, y_test = train_test_split(X, y, test_size=0.2)"
   ]
  },
  {
   "cell_type": "code",
   "execution_count": 910,
   "id": "3f0ded22",
   "metadata": {},
   "outputs": [
    {
     "data": {
      "text/plain": [
       "((135632, 5), (135632,), (33908, 5), (33908,))"
      ]
     },
     "execution_count": 910,
     "metadata": {},
     "output_type": "execute_result"
    }
   ],
   "source": [
    "X_train.shape, y_train.shape, X_test.shape, y_test.shape"
   ]
  },
  {
   "cell_type": "code",
   "execution_count": 911,
   "id": "8b17d5ff",
   "metadata": {},
   "outputs": [],
   "source": [
    "lr = LinearRegression().fit(X_train, y_train)"
   ]
  },
  {
   "cell_type": "code",
   "execution_count": 912,
   "id": "539fb0fd",
   "metadata": {},
   "outputs": [
    {
     "data": {
      "text/plain": [
       "[('passenger_count', 28.723625335972958),\n",
       " ('pickup_longitude', 6302.408102997084),\n",
       " ('pickup_latitude', -5607.656698280493),\n",
       " ('dropoff_longitude', 3380.82081113982),\n",
       " ('dropoff_latitude', -2362.3815384918485)]"
      ]
     },
     "execution_count": 912,
     "metadata": {},
     "output_type": "execute_result"
    }
   ],
   "source": [
    "lr.predict(X_test)\n",
    "list_column_weight = list(zip(X.columns,lr.coef_))\n",
    "list_column_weight\n"
   ]
  },
  {
   "cell_type": "code",
   "execution_count": 913,
   "id": "4548c34d",
   "metadata": {},
   "outputs": [
    {
     "data": {
      "text/plain": [
       "(33908,)"
      ]
     },
     "execution_count": 913,
     "metadata": {},
     "output_type": "execute_result"
    }
   ],
   "source": [
    "y_pred = lr.predict(X_test)\n",
    "y_pred.shape"
   ]
  },
  {
   "cell_type": "code",
   "execution_count": 914,
   "id": "b6c152da",
   "metadata": {},
   "outputs": [
    {
     "name": "stdout",
     "output_type": "stream",
     "text": [
      "MAE: 574.4135718583129\n",
      "MSE: 10357957.384636324\n",
      "RMSE: 3218.378067386789\n",
      "MAPE: 1.205243795333324\n",
      "R^2: 0.011374017295675443\n"
     ]
    }
   ],
   "source": [
    "print(f'MAE: {mean_absolute_error(y_test, y_pred)}')\n",
    "print(f'MSE: {mean_squared_error(y_test, y_pred)}')\n",
    "print(f'RMSE: {sqrt(mean_squared_error(y_test, y_pred))}')\n",
    "print(f'MAPE: {sqrt(mean_absolute_percentage_error(y_test, y_pred))}')\n",
    "print(f'R^2: {r2_score(y_test, y_pred)}')"
   ]
  },
  {
   "cell_type": "code",
   "execution_count": 915,
   "id": "28a4ad24",
   "metadata": {},
   "outputs": [
    {
     "data": {
      "text/plain": [
       "array([   28.72362534,  6302.408103  , -5607.65669828,  3380.82081114,\n",
       "       -2362.38153849])"
      ]
     },
     "execution_count": 915,
     "metadata": {},
     "output_type": "execute_result"
    }
   ],
   "source": [
    "len(lr.coef_)\n",
    "lr.coef_"
   ]
  },
  {
   "cell_type": "code",
   "execution_count": 916,
   "id": "1beb7104",
   "metadata": {},
   "outputs": [
    {
     "name": "stdout",
     "output_type": "stream",
     "text": [
      "MAE: 574.4153304863943\n",
      "MSE: 10357830.039774314\n",
      "RMSE: 3218.3582833137634\n",
      "MAPE: 1.2052450453771788\n",
      "R^2: 0.011386171858073446\n"
     ]
    },
    {
     "data": {
      "text/plain": [
       "array([   28.73890982,  6281.83335309, -5565.18709867,  3367.95389361,\n",
       "       -2360.57653096])"
      ]
     },
     "execution_count": 916,
     "metadata": {},
     "output_type": "execute_result"
    }
   ],
   "source": [
    "ridge = Ridge(alpha=0.9).fit(X_train, y_train)\n",
    "y_pred = ridge.predict(X_test)\n",
    "print(f'MAE: {mean_absolute_error(y_test, y_pred)}')\n",
    "print(f'MSE: {mean_squared_error(y_test, y_pred)}')\n",
    "print(f'RMSE: {sqrt(mean_squared_error(y_test, y_pred))}')\n",
    "print(f'MAPE: {sqrt(mean_absolute_percentage_error(y_test, y_pred))}')\n",
    "print(f'R^2: {r2_score(y_test, y_pred)}')\n",
    "ridge.coef_"
   ]
  },
  {
   "cell_type": "code",
   "execution_count": 917,
   "id": "9af4558c",
   "metadata": {},
   "outputs": [
    {
     "data": {
      "text/plain": [
       "{'alpha': 0.9}"
      ]
     },
     "execution_count": 917,
     "metadata": {},
     "output_type": "execute_result"
    }
   ],
   "source": [
    "parameters = {'alpha': np.arange(0, 1, 0.1)}\n",
    "ridge_optimal = GridSearchCV(Ridge(), parameters).fit(X_train, y_train)\n",
    "ridge_optimal.best_params_"
   ]
  },
  {
   "cell_type": "code",
   "execution_count": 918,
   "id": "285d5711",
   "metadata": {},
   "outputs": [
    {
     "name": "stdout",
     "output_type": "stream",
     "text": [
      "MAE: 576.6092185153\n",
      "MSE: 10358088.315401288\n",
      "RMSE: 3218.398408432568\n",
      "MAPE: 1.2058148177778092\n",
      "R^2: 0.011361520473051834\n"
     ]
    },
    {
     "data": {
      "text/plain": [
       "array([   28.73890982,  6281.83335309, -5565.18709867,  3367.95389361,\n",
       "       -2360.57653096])"
      ]
     },
     "execution_count": 918,
     "metadata": {},
     "output_type": "execute_result"
    }
   ],
   "source": [
    "lasso = Lasso(alpha=0.9)\n",
    "lasso.fit(X_train, y_train)\n",
    "y_pred = lasso.predict(X_test)\n",
    "print(f'MAE: {mean_absolute_error(y_test, y_pred)}')\n",
    "print(f'MSE: {mean_squared_error(y_test, y_pred)}')\n",
    "print(f'RMSE: {sqrt(mean_squared_error(y_test, y_pred))}')\n",
    "print(f'MAPE: {sqrt(mean_absolute_percentage_error(y_test, y_pred))}')\n",
    "print(f'R^2: {r2_score(y_test, y_pred)}')\n",
    "ridge.coef_"
   ]
  },
  {
   "cell_type": "code",
   "execution_count": 919,
   "id": "50c25ce5",
   "metadata": {},
   "outputs": [],
   "source": [
    "polynomialFeatures = PolynomialFeatures(2)\n",
    "X = X.values.reshape(-1, 5)\n",
    "y = y.values.reshape(-1, 1)\n"
   ]
  },
  {
   "cell_type": "code",
   "execution_count": 920,
   "id": "7b2ea265",
   "metadata": {},
   "outputs": [
    {
     "data": {
      "text/plain": [
       "array([[   30.05775688,  6285.77760407, -5219.24617295,  3304.7476271 ,\n",
       "        -2605.73276649]])"
      ]
     },
     "execution_count": 920,
     "metadata": {},
     "output_type": "execute_result"
    }
   ],
   "source": [
    "lr = LinearRegression().fit(X, y)\n",
    "lr.coef_"
   ]
  },
  {
   "cell_type": "code",
   "execution_count": 921,
   "id": "3f4b5ab3",
   "metadata": {},
   "outputs": [],
   "source": [
    "X_pf = polynomialFeatures.fit_transform(X)"
   ]
  }
 ],
 "metadata": {
  "kernelspec": {
   "display_name": "venv",
   "language": "python",
   "name": "python3"
  },
  "language_info": {
   "codemirror_mode": {
    "name": "ipython",
    "version": 3
   },
   "file_extension": ".py",
   "mimetype": "text/x-python",
   "name": "python",
   "nbconvert_exporter": "python",
   "pygments_lexer": "ipython3",
   "version": "3.9.6"
  },
  "vscode": {
   "interpreter": {
    "hash": "cc7558d8b538955255440c691f4d27b22048480a322d80a916b86607cd7dd3e4"
   }
  }
 },
 "nbformat": 4,
 "nbformat_minor": 5
}
