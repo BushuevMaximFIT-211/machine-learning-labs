{
 "cells": [
  {
   "cell_type": "markdown",
   "id": "43dfc1f0",
   "metadata": {},
   "source": [
    "# Лабораторная работа 1. Введение в машинное обучение. Обучение с учителем. Задача регрессии"
   ]
  },
  {
   "cell_type": "markdown",
   "id": "af0b0580",
   "metadata": {},
   "source": [
    "<b>Традиционное предупреждение для всех лабораторных работ:</b> перед обучением моделей необходимо выполнить предварительную обработку данных, которая <b>обязательно</b> включает в себя:\n",
    "- заполнение пропущенных значений (рекомедуется логика заполнения пропусков на основе типа данных, которая использовалась в РГР по Практикуму);\n",
    "- преобразование категориальных признаков в числовые (используйте one-hot кодирование или map; используйте знания с Практикума)."
   ]
  },
  {
   "cell_type": "markdown",
   "id": "b08d9e23",
   "metadata": {},
   "source": [
    "Предобработка может включать в себя другие действия, но выполнение описанных выше действий обязательно."
   ]
  },
  {
   "cell_type": "markdown",
   "id": "05aab9d1",
   "metadata": {},
   "source": [
    "Сделайте это один раз и сохраните в отдельный csv файл, а потом его используйте."
   ]
  },
  {
   "cell_type": "markdown",
   "id": "e053af5b",
   "metadata": {},
   "source": [
    "<b>Выполните следующие задания:</b>\n",
    "- загрузите датасет для регрессии, выделите целевой признак и предикторы, разбейте данные на обучающую и тестовую выборку;\n",
    "- решите задачу регрессии на ваших данных с использованием моделей sklearn (линейная регрессия + L1, L2), для моделей с регуляризациями подберите гиперпараметр;\n",
    "- решите задачу регрессии на ваших данных с использованием моделей sklearn (полиномиальная регрессия + L1, L2), для моделей с регуляризациями подберите гиперпараметр;\n",
    "- вычислите значения метрик $R^2$, MAE, MSE, RMSE, MAPE для всех обученных моделей; выберите лучшую модель;\n",
    "- самостоятельно реализуйте (желательно в виде класса) модель линейной регрессии с регуляризацией (можете выбрать L1 или L2);\n",
    "- самостоятельно реализуйте вычисление всех используемых метрик (в виде функций, принимающих два аргумента);\n",
    "- обучите вашу модель линейной регрессии на ваших данных; оцените качество с помощью реализованных вами метрик."
   ]
  },
  {
   "cell_type": "code",
   "execution_count": 68,
   "id": "f500beec",
   "metadata": {},
   "outputs": [],
   "source": [
    "import pandas as pd\n",
    "from sklearn.model_selection import train_test_split\n",
    "from sklearn.linear_model import LinearRegression, Lasso, Ridge\n",
    "from sklearn.metrics import mean_squared_error, mean_absolute_error, mean_absolute_percentage_error, r2_score\n",
    "from math import sqrt\n",
    "from sklearn.model_selection import GridSearchCV, RandomizedSearchCV\n",
    "import numpy as np\n",
    "from sklearn.preprocessing import PolynomialFeatures\n",
    "import matplotlib.pyplot as plt"
   ]
  },
  {
   "cell_type": "code",
   "execution_count": 69,
   "id": "14befecc",
   "metadata": {},
   "outputs": [
    {
     "data": {
      "text/html": [
       "<div>\n",
       "<style scoped>\n",
       "    .dataframe tbody tr th:only-of-type {\n",
       "        vertical-align: middle;\n",
       "    }\n",
       "\n",
       "    .dataframe tbody tr th {\n",
       "        vertical-align: top;\n",
       "    }\n",
       "\n",
       "    .dataframe thead th {\n",
       "        text-align: right;\n",
       "    }\n",
       "</style>\n",
       "<table border=\"1\" class=\"dataframe\">\n",
       "  <thead>\n",
       "    <tr style=\"text-align: right;\">\n",
       "      <th></th>\n",
       "      <th>pickup_longitude</th>\n",
       "      <th>pickup_latitude</th>\n",
       "      <th>dropoff_longitude</th>\n",
       "      <th>dropoff_latitude</th>\n",
       "      <th>trip_duration</th>\n",
       "    </tr>\n",
       "  </thead>\n",
       "  <tbody>\n",
       "    <tr>\n",
       "      <th>0</th>\n",
       "      <td>-73.953918</td>\n",
       "      <td>40.778873</td>\n",
       "      <td>-73.963875</td>\n",
       "      <td>40.771164</td>\n",
       "      <td>400</td>\n",
       "    </tr>\n",
       "    <tr>\n",
       "      <th>1</th>\n",
       "      <td>-73.988312</td>\n",
       "      <td>40.731743</td>\n",
       "      <td>-73.994751</td>\n",
       "      <td>40.694931</td>\n",
       "      <td>1100</td>\n",
       "    </tr>\n",
       "    <tr>\n",
       "      <th>2</th>\n",
       "      <td>-73.997314</td>\n",
       "      <td>40.721458</td>\n",
       "      <td>-73.948029</td>\n",
       "      <td>40.774918</td>\n",
       "      <td>1635</td>\n",
       "    </tr>\n",
       "    <tr>\n",
       "      <th>3</th>\n",
       "      <td>-73.961670</td>\n",
       "      <td>40.759720</td>\n",
       "      <td>-73.956779</td>\n",
       "      <td>40.780628</td>\n",
       "      <td>1141</td>\n",
       "    </tr>\n",
       "    <tr>\n",
       "      <th>4</th>\n",
       "      <td>-74.017120</td>\n",
       "      <td>40.708469</td>\n",
       "      <td>-73.988182</td>\n",
       "      <td>40.740631</td>\n",
       "      <td>848</td>\n",
       "    </tr>\n",
       "    <tr>\n",
       "      <th>...</th>\n",
       "      <td>...</td>\n",
       "      <td>...</td>\n",
       "      <td>...</td>\n",
       "      <td>...</td>\n",
       "      <td>...</td>\n",
       "    </tr>\n",
       "    <tr>\n",
       "      <th>729317</th>\n",
       "      <td>-73.965919</td>\n",
       "      <td>40.789780</td>\n",
       "      <td>-73.952637</td>\n",
       "      <td>40.789181</td>\n",
       "      <td>296</td>\n",
       "    </tr>\n",
       "    <tr>\n",
       "      <th>729318</th>\n",
       "      <td>-73.996666</td>\n",
       "      <td>40.737434</td>\n",
       "      <td>-74.001320</td>\n",
       "      <td>40.731911</td>\n",
       "      <td>315</td>\n",
       "    </tr>\n",
       "    <tr>\n",
       "      <th>729319</th>\n",
       "      <td>-73.997849</td>\n",
       "      <td>40.761696</td>\n",
       "      <td>-74.001488</td>\n",
       "      <td>40.741207</td>\n",
       "      <td>673</td>\n",
       "    </tr>\n",
       "    <tr>\n",
       "      <th>729320</th>\n",
       "      <td>-74.006706</td>\n",
       "      <td>40.708244</td>\n",
       "      <td>-74.013550</td>\n",
       "      <td>40.713814</td>\n",
       "      <td>447</td>\n",
       "    </tr>\n",
       "    <tr>\n",
       "      <th>729321</th>\n",
       "      <td>-74.003342</td>\n",
       "      <td>40.743839</td>\n",
       "      <td>-73.945847</td>\n",
       "      <td>40.712841</td>\n",
       "      <td>1224</td>\n",
       "    </tr>\n",
       "  </tbody>\n",
       "</table>\n",
       "<p>727475 rows × 5 columns</p>\n",
       "</div>"
      ],
      "text/plain": [
       "        pickup_longitude  pickup_latitude  dropoff_longitude  \\\n",
       "0             -73.953918        40.778873         -73.963875   \n",
       "1             -73.988312        40.731743         -73.994751   \n",
       "2             -73.997314        40.721458         -73.948029   \n",
       "3             -73.961670        40.759720         -73.956779   \n",
       "4             -74.017120        40.708469         -73.988182   \n",
       "...                  ...              ...                ...   \n",
       "729317        -73.965919        40.789780         -73.952637   \n",
       "729318        -73.996666        40.737434         -74.001320   \n",
       "729319        -73.997849        40.761696         -74.001488   \n",
       "729320        -74.006706        40.708244         -74.013550   \n",
       "729321        -74.003342        40.743839         -73.945847   \n",
       "\n",
       "        dropoff_latitude  trip_duration  \n",
       "0              40.771164            400  \n",
       "1              40.694931           1100  \n",
       "2              40.774918           1635  \n",
       "3              40.780628           1141  \n",
       "4              40.740631            848  \n",
       "...                  ...            ...  \n",
       "729317         40.789181            296  \n",
       "729318         40.731911            315  \n",
       "729319         40.741207            673  \n",
       "729320         40.713814            447  \n",
       "729321         40.712841           1224  \n",
       "\n",
       "[727475 rows x 5 columns]"
      ]
     },
     "execution_count": 69,
     "metadata": {},
     "output_type": "execute_result"
    }
   ],
   "source": [
    "data= pd.read_csv(\"../data/trip_duration_task.csv\")\n",
    "data.drop(['id','pickup_datetime', 'dropoff_datetime', 'vendor_id', 'passenger_count' ], axis=1, inplace=True)\n",
    "data.drop_duplicates(inplace=True)\n",
    "data.dropna(inplace=True)\n",
    "data"
   ]
  },
  {
   "cell_type": "code",
   "execution_count": 70,
   "id": "90cb46f7",
   "metadata": {},
   "outputs": [
    {
     "name": "stdout",
     "output_type": "stream",
     "text": [
      "<class 'pandas.core.frame.DataFrame'>\n",
      "Int64Index: 727475 entries, 0 to 729321\n",
      "Data columns (total 5 columns):\n",
      " #   Column             Non-Null Count   Dtype  \n",
      "---  ------             --------------   -----  \n",
      " 0   pickup_longitude   727475 non-null  float64\n",
      " 1   pickup_latitude    727475 non-null  float64\n",
      " 2   dropoff_longitude  727475 non-null  float64\n",
      " 3   dropoff_latitude   727475 non-null  float64\n",
      " 4   trip_duration      727475 non-null  int64  \n",
      "dtypes: float64(4), int64(1)\n",
      "memory usage: 33.3 MB\n"
     ]
    }
   ],
   "source": [
    "data.info()"
   ]
  },
  {
   "cell_type": "markdown",
   "id": "a5b51477",
   "metadata": {},
   "source": [
    "Предобработка данных"
   ]
  },
  {
   "cell_type": "markdown",
   "id": "73570f23",
   "metadata": {},
   "source": [
    "1) Убрал строки с null-value в столбце \"vendor_id\"\n",
    "2) Заполнил строки с null-value в столбце \"pickup_latitude\""
   ]
  },
  {
   "cell_type": "code",
   "execution_count": 71,
   "id": "ec420378",
   "metadata": {},
   "outputs": [],
   "source": [
    "y = data['trip_duration']\n",
    "X = data.drop(['trip_duration'], axis=1)\n"
   ]
  },
  {
   "cell_type": "code",
   "execution_count": 72,
   "id": "4dfd3390",
   "metadata": {},
   "outputs": [
    {
     "data": {
      "text/plain": [
       "0          400\n",
       "1         1100\n",
       "2         1635\n",
       "3         1141\n",
       "4          848\n",
       "          ... \n",
       "729317     296\n",
       "729318     315\n",
       "729319     673\n",
       "729320     447\n",
       "729321    1224\n",
       "Name: trip_duration, Length: 727475, dtype: int64"
      ]
     },
     "execution_count": 72,
     "metadata": {},
     "output_type": "execute_result"
    }
   ],
   "source": [
    "y"
   ]
  },
  {
   "cell_type": "code",
   "execution_count": 73,
   "id": "949dbe69",
   "metadata": {},
   "outputs": [
    {
     "data": {
      "text/html": [
       "<div>\n",
       "<style scoped>\n",
       "    .dataframe tbody tr th:only-of-type {\n",
       "        vertical-align: middle;\n",
       "    }\n",
       "\n",
       "    .dataframe tbody tr th {\n",
       "        vertical-align: top;\n",
       "    }\n",
       "\n",
       "    .dataframe thead th {\n",
       "        text-align: right;\n",
       "    }\n",
       "</style>\n",
       "<table border=\"1\" class=\"dataframe\">\n",
       "  <thead>\n",
       "    <tr style=\"text-align: right;\">\n",
       "      <th></th>\n",
       "      <th>pickup_longitude</th>\n",
       "      <th>pickup_latitude</th>\n",
       "      <th>dropoff_longitude</th>\n",
       "      <th>dropoff_latitude</th>\n",
       "    </tr>\n",
       "  </thead>\n",
       "  <tbody>\n",
       "    <tr>\n",
       "      <th>0</th>\n",
       "      <td>-73.953918</td>\n",
       "      <td>40.778873</td>\n",
       "      <td>-73.963875</td>\n",
       "      <td>40.771164</td>\n",
       "    </tr>\n",
       "    <tr>\n",
       "      <th>1</th>\n",
       "      <td>-73.988312</td>\n",
       "      <td>40.731743</td>\n",
       "      <td>-73.994751</td>\n",
       "      <td>40.694931</td>\n",
       "    </tr>\n",
       "    <tr>\n",
       "      <th>2</th>\n",
       "      <td>-73.997314</td>\n",
       "      <td>40.721458</td>\n",
       "      <td>-73.948029</td>\n",
       "      <td>40.774918</td>\n",
       "    </tr>\n",
       "    <tr>\n",
       "      <th>3</th>\n",
       "      <td>-73.961670</td>\n",
       "      <td>40.759720</td>\n",
       "      <td>-73.956779</td>\n",
       "      <td>40.780628</td>\n",
       "    </tr>\n",
       "    <tr>\n",
       "      <th>4</th>\n",
       "      <td>-74.017120</td>\n",
       "      <td>40.708469</td>\n",
       "      <td>-73.988182</td>\n",
       "      <td>40.740631</td>\n",
       "    </tr>\n",
       "    <tr>\n",
       "      <th>...</th>\n",
       "      <td>...</td>\n",
       "      <td>...</td>\n",
       "      <td>...</td>\n",
       "      <td>...</td>\n",
       "    </tr>\n",
       "    <tr>\n",
       "      <th>729317</th>\n",
       "      <td>-73.965919</td>\n",
       "      <td>40.789780</td>\n",
       "      <td>-73.952637</td>\n",
       "      <td>40.789181</td>\n",
       "    </tr>\n",
       "    <tr>\n",
       "      <th>729318</th>\n",
       "      <td>-73.996666</td>\n",
       "      <td>40.737434</td>\n",
       "      <td>-74.001320</td>\n",
       "      <td>40.731911</td>\n",
       "    </tr>\n",
       "    <tr>\n",
       "      <th>729319</th>\n",
       "      <td>-73.997849</td>\n",
       "      <td>40.761696</td>\n",
       "      <td>-74.001488</td>\n",
       "      <td>40.741207</td>\n",
       "    </tr>\n",
       "    <tr>\n",
       "      <th>729320</th>\n",
       "      <td>-74.006706</td>\n",
       "      <td>40.708244</td>\n",
       "      <td>-74.013550</td>\n",
       "      <td>40.713814</td>\n",
       "    </tr>\n",
       "    <tr>\n",
       "      <th>729321</th>\n",
       "      <td>-74.003342</td>\n",
       "      <td>40.743839</td>\n",
       "      <td>-73.945847</td>\n",
       "      <td>40.712841</td>\n",
       "    </tr>\n",
       "  </tbody>\n",
       "</table>\n",
       "<p>727475 rows × 4 columns</p>\n",
       "</div>"
      ],
      "text/plain": [
       "        pickup_longitude  pickup_latitude  dropoff_longitude  dropoff_latitude\n",
       "0             -73.953918        40.778873         -73.963875         40.771164\n",
       "1             -73.988312        40.731743         -73.994751         40.694931\n",
       "2             -73.997314        40.721458         -73.948029         40.774918\n",
       "3             -73.961670        40.759720         -73.956779         40.780628\n",
       "4             -74.017120        40.708469         -73.988182         40.740631\n",
       "...                  ...              ...                ...               ...\n",
       "729317        -73.965919        40.789780         -73.952637         40.789181\n",
       "729318        -73.996666        40.737434         -74.001320         40.731911\n",
       "729319        -73.997849        40.761696         -74.001488         40.741207\n",
       "729320        -74.006706        40.708244         -74.013550         40.713814\n",
       "729321        -74.003342        40.743839         -73.945847         40.712841\n",
       "\n",
       "[727475 rows x 4 columns]"
      ]
     },
     "execution_count": 73,
     "metadata": {},
     "output_type": "execute_result"
    }
   ],
   "source": [
    "X"
   ]
  },
  {
   "cell_type": "code",
   "execution_count": 74,
   "id": "81f581bc",
   "metadata": {},
   "outputs": [],
   "source": [
    "X_train, X_test, y_train, y_test = train_test_split(X, y, test_size=0.2, shuffle=False)"
   ]
  },
  {
   "cell_type": "code",
   "execution_count": 75,
   "id": "3f0ded22",
   "metadata": {},
   "outputs": [
    {
     "data": {
      "text/plain": [
       "((581980, 4), (581980,), (145495, 4), (145495,))"
      ]
     },
     "execution_count": 75,
     "metadata": {},
     "output_type": "execute_result"
    }
   ],
   "source": [
    "X_train.shape, y_train.shape, X_test.shape, y_test.shape"
   ]
  },
  {
   "cell_type": "code",
   "execution_count": 76,
   "id": "8b17d5ff",
   "metadata": {},
   "outputs": [],
   "source": [
    "lr = LinearRegression().fit(X_train, y_train)"
   ]
  },
  {
   "cell_type": "code",
   "execution_count": 77,
   "id": "539fb0fd",
   "metadata": {},
   "outputs": [
    {
     "data": {
      "text/plain": [
       "[('pickup_longitude', 2455.9534529464),\n",
       " ('pickup_latitude', -3625.4908200280233),\n",
       " ('dropoff_longitude', -643.2648930974929),\n",
       " ('dropoff_latitude', -2224.3409323351966)]"
      ]
     },
     "execution_count": 77,
     "metadata": {},
     "output_type": "execute_result"
    }
   ],
   "source": [
    "lr.predict(X_test)\n",
    "list_column_weight = list(zip(X.columns,lr.coef_))\n",
    "list_column_weight\n"
   ]
  },
  {
   "cell_type": "code",
   "execution_count": 78,
   "id": "4548c34d",
   "metadata": {},
   "outputs": [
    {
     "data": {
      "text/plain": [
       "(145495,)"
      ]
     },
     "execution_count": 78,
     "metadata": {},
     "output_type": "execute_result"
    }
   ],
   "source": [
    "y_pred = lr.predict(X_test)\n",
    "y_pred.shape"
   ]
  },
  {
   "cell_type": "code",
   "execution_count": 79,
   "id": "b6c152da",
   "metadata": {},
   "outputs": [
    {
     "name": "stdout",
     "output_type": "stream",
     "text": [
      "MAE: 596.6168790600725\n",
      "MSE: 10159688.2470863\n",
      "RMSE: 3187.4265869328347\n",
      "MAPE: 1.2632660103435234\n",
      "R^2: 0.003915683354134947\n",
      "R^2: 0.0030848870752319124\n"
     ]
    }
   ],
   "source": [
    "print(f'MAE: {mean_absolute_error(y_test, y_pred)}')\n",
    "print(f'MSE: {mean_squared_error(y_test, y_pred)}')\n",
    "print(f'RMSE: {sqrt(mean_squared_error(y_test, y_pred))}')\n",
    "print(f'MAPE: {sqrt(mean_absolute_percentage_error(y_test, y_pred))}')\n",
    "print(f'R^2: {lr.score(X_test, y_test)}')\n",
    "print(f'R^2: {lr.score(X, y)}')"
   ]
  },
  {
   "cell_type": "code",
   "execution_count": 80,
   "id": "28a4ad24",
   "metadata": {},
   "outputs": [
    {
     "data": {
      "text/plain": [
       "array([ 2455.95345295, -3625.49082003,  -643.2648931 , -2224.34093234])"
      ]
     },
     "execution_count": 80,
     "metadata": {},
     "output_type": "execute_result"
    }
   ],
   "source": [
    "len(lr.coef_)\n",
    "lr.coef_"
   ]
  },
  {
   "cell_type": "code",
   "execution_count": 81,
   "id": "1beb7104",
   "metadata": {},
   "outputs": [
    {
     "name": "stdout",
     "output_type": "stream",
     "text": [
      "MAE: 596.6211172615192\n",
      "MSE: 10159672.234594177\n",
      "RMSE: 3187.4240751105235\n",
      "MAPE: 1.263254101683235\n",
      "R^2: 0.003917253263750919\n"
     ]
    },
    {
     "data": {
      "text/plain": [
       "array([ 2453.8365091 , -3621.1621662 ,  -641.68008219, -2223.30942753])"
      ]
     },
     "execution_count": 81,
     "metadata": {},
     "output_type": "execute_result"
    }
   ],
   "source": [
    "ridge = Ridge(alpha=0.9).fit(X_train, y_train)\n",
    "y_pred = ridge.predict(X_test)\n",
    "print(f'MAE: {mean_absolute_error(y_test, y_pred)}')\n",
    "print(f'MSE: {mean_squared_error(y_test, y_pred)}')\n",
    "print(f'RMSE: {sqrt(mean_squared_error(y_test, y_pred))}')\n",
    "print(f'MAPE: {sqrt(mean_absolute_percentage_error(y_test, y_pred))}')\n",
    "print(f'R^2: {ridge.score(X_test, y_test)}')\n",
    "ridge.coef_"
   ]
  },
  {
   "cell_type": "code",
   "execution_count": 82,
   "id": "9af4558c",
   "metadata": {},
   "outputs": [
    {
     "data": {
      "text/plain": [
       "{'alpha': 0.9}"
      ]
     },
     "execution_count": 82,
     "metadata": {},
     "output_type": "execute_result"
    }
   ],
   "source": [
    "parameters = {'alpha': np.arange(0, 1, 0.1)}\n",
    "ridge_optimal = GridSearchCV(Ridge(), parameters).fit(X_train, y_train)\n",
    "ridge_optimal.best_params_"
   ]
  },
  {
   "cell_type": "code",
   "execution_count": 83,
   "id": "285d5711",
   "metadata": {},
   "outputs": [
    {
     "name": "stdout",
     "output_type": "stream",
     "text": [
      "MAE: 621.3435482093176\n",
      "MSE: 10199632.122365268\n",
      "RMSE: 3193.6862905372013\n",
      "MAPE: 1.2565324939179645\n",
      "R^2: 0.003917253263750919\n"
     ]
    },
    {
     "data": {
      "text/plain": [
       "array([ 2453.8365091 , -3621.1621662 ,  -641.68008219, -2223.30942753])"
      ]
     },
     "execution_count": 83,
     "metadata": {},
     "output_type": "execute_result"
    }
   ],
   "source": [
    "lasso = Lasso(alpha=475)\n",
    "lasso.fit(X_train, y_train)\n",
    "y_pred = lasso.predict(X_test)\n",
    "print(f'MAE: {mean_absolute_error(y_test, y_pred)}')\n",
    "print(f'MSE: {mean_squared_error(y_test, y_pred)}')\n",
    "print(f'RMSE: {sqrt(mean_squared_error(y_test, y_pred))}')\n",
    "print(f'MAPE: {sqrt(mean_absolute_percentage_error(y_test, y_pred))}')\n",
    "print(f'R^2: {ridge.score(X_test, y_test)}')\n",
    "ridge.coef_"
   ]
  },
  {
   "cell_type": "code",
   "execution_count": 96,
   "id": "50c25ce5",
   "metadata": {},
   "outputs": [],
   "source": [
    "polynomialFeatures = PolynomialFeatures(2)\n",
    "X = X.values.reshape(-1, 4)\n",
    "y = y.values.reshape(-1, 1)\n"
   ]
  },
  {
   "cell_type": "code",
   "execution_count": 117,
   "id": "7b2ea265",
   "metadata": {},
   "outputs": [
    {
     "data": {
      "text/plain": [
       "array([[ 2538.76248118, -3550.59502695,  -488.59114279, -1890.35671589]])"
      ]
     },
     "execution_count": 117,
     "metadata": {},
     "output_type": "execute_result"
    }
   ],
   "source": [
    "lr = LinearRegression().fit(X, y)\n",
    "lr.coef_"
   ]
  },
  {
   "cell_type": "code",
   "execution_count": 118,
   "id": "3f4b5ab3",
   "metadata": {},
   "outputs": [],
   "source": [
    "X_pf = polynomialFeatures.fit_transform(X)"
   ]
  }
 ],
 "metadata": {
  "kernelspec": {
   "display_name": "venv",
   "language": "python",
   "name": "python3"
  },
  "language_info": {
   "codemirror_mode": {
    "name": "ipython",
    "version": 3
   },
   "file_extension": ".py",
   "mimetype": "text/x-python",
   "name": "python",
   "nbconvert_exporter": "python",
   "pygments_lexer": "ipython3",
   "version": "3.9.6"
  },
  "vscode": {
   "interpreter": {
    "hash": "cc7558d8b538955255440c691f4d27b22048480a322d80a916b86607cd7dd3e4"
   }
  }
 },
 "nbformat": 4,
 "nbformat_minor": 5
}
