{
 "cells": [
  {
   "cell_type": "code",
   "execution_count": 72,
   "metadata": {},
   "outputs": [],
   "source": [
    "import pandas as pd\n",
    "from sklearn.model_selection import train_test_split\n",
    "from sklearn.preprocessing import StandardScaler, MinMaxScaler"
   ]
  },
  {
   "cell_type": "code",
   "execution_count": 73,
   "metadata": {},
   "outputs": [],
   "source": [
    "import numpy as np\n",
    "class Metrics:\n",
    "    @staticmethod\n",
    "    def  mean_absolute_error(y_test, y_pred):\n",
    "        y_true, predictions = np.array(y_test), np.array(y_pred)\n",
    "        return float(np.mean(np.abs(y_true-predictions)))\n",
    "    @staticmethod\n",
    "    def mean_squared_error(y_test, y_pred):\n",
    "        y_true, predictions = np.array(y_test), np.array(y_pred)\n",
    "        return float(np.mean((y_true-predictions)**2))\n",
    "    @staticmethod\n",
    "    def root_mean_squared_error(y_test, y_pred):\n",
    "        return float(np.sqrt(Metrics.mean_squared_error(y_test, y_pred)))\n",
    "    @staticmethod\n",
    "    def mean_absolute_percentage_error(y_test, y_pred):\n",
    "        y_true, predictions = np.array(y_test), np.array(y_pred)\n",
    "        return float(np.mean(np.abs((y_true-predictions)/y_true)))\n",
    "    @staticmethod\n",
    "    def r_2_score( y_test, y_pred):\n",
    "        y_true, predictions = np.array(y_test), np.array(y_pred)\n",
    "        mean_value = np.mean(predictions)\n",
    "        return float(Metrics.mean_absolute_error(y_true, y_pred)/ np.mean((y_true-mean_value)**2))\n",
    "    "
   ]
  },
  {
   "cell_type": "code",
   "execution_count": 74,
   "metadata": {},
   "outputs": [],
   "source": [
    "import numpy as np\n",
    "class MyLinearRegression:\n",
    "    def __init__(self, lr = 10-20, iters = 5000):\n",
    "        self.lr = lr\n",
    "        self.iters = iters\n",
    "\n",
    "    def transform_(self, x):\n",
    "        return np.concatenate((np.ones((len(x), 1)), x), axis = 1)\n",
    "\n",
    "    def loss_func(self, x, y, w):\n",
    "        return sum((y - np.dot(x, w)) ** 2) / x.shape[0]\n",
    "\n",
    "    def fit(self, x, y):\n",
    "        dist = np.inf\n",
    "        eps = 1e-20\n",
    "        X = self.transform_(x)\n",
    "\n",
    "        w = np.zeros(X.shape[1])\n",
    "        iter = 0\n",
    "\n",
    "        while iter <= self.iters:\n",
    "            loss = self.loss_func(X, y, w)\n",
    "            w = w - self.lr * 2 * np.dot(X.T, np.dot(X, w) - y) / X.shape[0]\n",
    "            dist = np.abs(loss - self.loss_func(X, y, w))\n",
    "            iter += 1\n",
    "            \n",
    "            if(dist <= eps):\n",
    "                break\n",
    "        print(iter)\n",
    "        self.w = w\n",
    "\n",
    "    def predict(self, x):\n",
    "        return np.dot(self.transform_(x), self.w)"
   ]
  },
  {
   "cell_type": "code",
   "execution_count": 75,
   "metadata": {},
   "outputs": [],
   "source": [
    "data= pd.read_csv(\"../data/trip_duration_task_m.csv\")\n",
    "data.drop([\"Unnamed: 0\"], axis=1, inplace=True)\n"
   ]
  },
  {
   "cell_type": "code",
   "execution_count": 76,
   "metadata": {},
   "outputs": [
    {
     "name": "stdout",
     "output_type": "stream",
     "text": [
      "<class 'pandas.core.frame.DataFrame'>\n",
      "RangeIndex: 199494 entries, 0 to 199493\n",
      "Data columns (total 5 columns):\n",
      " #   Column             Non-Null Count   Dtype  \n",
      "---  ------             --------------   -----  \n",
      " 0   pickup_longitude   199494 non-null  float64\n",
      " 1   pickup_latitude    199494 non-null  float64\n",
      " 2   dropoff_longitude  199494 non-null  float64\n",
      " 3   dropoff_latitude   199494 non-null  float64\n",
      " 4   trip_duration      199494 non-null  int64  \n",
      "dtypes: float64(4), int64(1)\n",
      "memory usage: 7.6 MB\n"
     ]
    }
   ],
   "source": [
    "data.info()"
   ]
  },
  {
   "cell_type": "code",
   "execution_count": 77,
   "metadata": {},
   "outputs": [],
   "source": [
    "y = data['trip_duration']\n",
    "X = data.drop(['trip_duration'], axis=1)"
   ]
  },
  {
   "cell_type": "code",
   "execution_count": 78,
   "metadata": {},
   "outputs": [],
   "source": [
    "X_train, X_test, y_train, y_test = train_test_split(X, y, test_size=0.2)"
   ]
  },
  {
   "cell_type": "code",
   "execution_count": 79,
   "metadata": {},
   "outputs": [
    {
     "data": {
      "text/html": [
       "<div>\n",
       "<style scoped>\n",
       "    .dataframe tbody tr th:only-of-type {\n",
       "        vertical-align: middle;\n",
       "    }\n",
       "\n",
       "    .dataframe tbody tr th {\n",
       "        vertical-align: top;\n",
       "    }\n",
       "\n",
       "    .dataframe thead th {\n",
       "        text-align: right;\n",
       "    }\n",
       "</style>\n",
       "<table border=\"1\" class=\"dataframe\">\n",
       "  <thead>\n",
       "    <tr style=\"text-align: right;\">\n",
       "      <th></th>\n",
       "      <th>pickup_longitude</th>\n",
       "      <th>pickup_latitude</th>\n",
       "      <th>dropoff_longitude</th>\n",
       "      <th>dropoff_latitude</th>\n",
       "    </tr>\n",
       "  </thead>\n",
       "  <tbody>\n",
       "    <tr>\n",
       "      <th>count</th>\n",
       "      <td>1.595950e+05</td>\n",
       "      <td>1.595950e+05</td>\n",
       "      <td>1.595950e+05</td>\n",
       "      <td>1.595950e+05</td>\n",
       "    </tr>\n",
       "    <tr>\n",
       "      <th>mean</th>\n",
       "      <td>-8.277459e-15</td>\n",
       "      <td>5.941183e-14</td>\n",
       "      <td>-1.374316e-13</td>\n",
       "      <td>5.197026e-14</td>\n",
       "    </tr>\n",
       "    <tr>\n",
       "      <th>std</th>\n",
       "      <td>1.000003e+00</td>\n",
       "      <td>1.000003e+00</td>\n",
       "      <td>1.000003e+00</td>\n",
       "      <td>1.000003e+00</td>\n",
       "    </tr>\n",
       "    <tr>\n",
       "      <th>min</th>\n",
       "      <td>-1.080097e+01</td>\n",
       "      <td>-1.583435e+01</td>\n",
       "      <td>-1.803990e+01</td>\n",
       "      <td>-1.395213e+01</td>\n",
       "    </tr>\n",
       "    <tr>\n",
       "      <th>25%</th>\n",
       "      <td>-4.694727e-01</td>\n",
       "      <td>-4.735441e-01</td>\n",
       "      <td>-4.790271e-01</td>\n",
       "      <td>-4.853304e-01</td>\n",
       "    </tr>\n",
       "    <tr>\n",
       "      <th>50%</th>\n",
       "      <td>-2.133119e-01</td>\n",
       "      <td>1.093516e-01</td>\n",
       "      <td>-1.705333e-01</td>\n",
       "      <td>8.211502e-02</td>\n",
       "    </tr>\n",
       "    <tr>\n",
       "      <th>75%</th>\n",
       "      <td>1.517462e-01</td>\n",
       "      <td>6.089575e-01</td>\n",
       "      <td>2.741389e-01</td>\n",
       "      <td>5.486890e-01</td>\n",
       "    </tr>\n",
       "    <tr>\n",
       "      <th>max</th>\n",
       "      <td>8.791257e+01</td>\n",
       "      <td>5.980931e+01</td>\n",
       "      <td>9.263120e+01</td>\n",
       "      <td>5.194664e+01</td>\n",
       "    </tr>\n",
       "  </tbody>\n",
       "</table>\n",
       "</div>"
      ],
      "text/plain": [
       "       pickup_longitude  pickup_latitude  dropoff_longitude  dropoff_latitude\n",
       "count      1.595950e+05     1.595950e+05       1.595950e+05      1.595950e+05\n",
       "mean      -8.277459e-15     5.941183e-14      -1.374316e-13      5.197026e-14\n",
       "std        1.000003e+00     1.000003e+00       1.000003e+00      1.000003e+00\n",
       "min       -1.080097e+01    -1.583435e+01      -1.803990e+01     -1.395213e+01\n",
       "25%       -4.694727e-01    -4.735441e-01      -4.790271e-01     -4.853304e-01\n",
       "50%       -2.133119e-01     1.093516e-01      -1.705333e-01      8.211502e-02\n",
       "75%        1.517462e-01     6.089575e-01       2.741389e-01      5.486890e-01\n",
       "max        8.791257e+01     5.980931e+01       9.263120e+01      5.194664e+01"
      ]
     },
     "execution_count": 79,
     "metadata": {},
     "output_type": "execute_result"
    }
   ],
   "source": [
    "standardScaler = StandardScaler()\n",
    "standardScaler.fit(X_train)\n",
    "X_train_std = pd.DataFrame(standardScaler.transform(X_train), columns=X.columns)\n",
    "X_test_std = pd.DataFrame(standardScaler.transform(X_test), columns=X.columns)\n",
    "X_train_std.describe()"
   ]
  },
  {
   "cell_type": "code",
   "execution_count": 80,
   "metadata": {},
   "outputs": [
    {
     "data": {
      "text/html": [
       "<div>\n",
       "<style scoped>\n",
       "    .dataframe tbody tr th:only-of-type {\n",
       "        vertical-align: middle;\n",
       "    }\n",
       "\n",
       "    .dataframe tbody tr th {\n",
       "        vertical-align: top;\n",
       "    }\n",
       "\n",
       "    .dataframe thead th {\n",
       "        text-align: right;\n",
       "    }\n",
       "</style>\n",
       "<table border=\"1\" class=\"dataframe\">\n",
       "  <thead>\n",
       "    <tr style=\"text-align: right;\">\n",
       "      <th></th>\n",
       "      <th>pickup_longitude</th>\n",
       "      <th>pickup_latitude</th>\n",
       "      <th>dropoff_longitude</th>\n",
       "      <th>dropoff_latitude</th>\n",
       "    </tr>\n",
       "  </thead>\n",
       "  <tbody>\n",
       "    <tr>\n",
       "      <th>count</th>\n",
       "      <td>159595.000000</td>\n",
       "      <td>159595.000000</td>\n",
       "      <td>159595.000000</td>\n",
       "      <td>159595.000000</td>\n",
       "    </tr>\n",
       "    <tr>\n",
       "      <th>mean</th>\n",
       "      <td>0.109417</td>\n",
       "      <td>0.209328</td>\n",
       "      <td>0.163005</td>\n",
       "      <td>0.211721</td>\n",
       "    </tr>\n",
       "    <tr>\n",
       "      <th>std</th>\n",
       "      <td>0.010130</td>\n",
       "      <td>0.013220</td>\n",
       "      <td>0.009036</td>\n",
       "      <td>0.015175</td>\n",
       "    </tr>\n",
       "    <tr>\n",
       "      <th>min</th>\n",
       "      <td>0.000000</td>\n",
       "      <td>0.000000</td>\n",
       "      <td>0.000000</td>\n",
       "      <td>0.000000</td>\n",
       "    </tr>\n",
       "    <tr>\n",
       "      <th>25%</th>\n",
       "      <td>0.104661</td>\n",
       "      <td>0.203068</td>\n",
       "      <td>0.158676</td>\n",
       "      <td>0.204356</td>\n",
       "    </tr>\n",
       "    <tr>\n",
       "      <th>50%</th>\n",
       "      <td>0.107256</td>\n",
       "      <td>0.210774</td>\n",
       "      <td>0.161464</td>\n",
       "      <td>0.212967</td>\n",
       "    </tr>\n",
       "    <tr>\n",
       "      <th>75%</th>\n",
       "      <td>0.110955</td>\n",
       "      <td>0.217379</td>\n",
       "      <td>0.165482</td>\n",
       "      <td>0.220047</td>\n",
       "    </tr>\n",
       "    <tr>\n",
       "      <th>max</th>\n",
       "      <td>1.000000</td>\n",
       "      <td>1.000000</td>\n",
       "      <td>1.000000</td>\n",
       "      <td>1.000000</td>\n",
       "    </tr>\n",
       "  </tbody>\n",
       "</table>\n",
       "</div>"
      ],
      "text/plain": [
       "       pickup_longitude  pickup_latitude  dropoff_longitude  dropoff_latitude\n",
       "count     159595.000000    159595.000000      159595.000000     159595.000000\n",
       "mean           0.109417         0.209328           0.163005          0.211721\n",
       "std            0.010130         0.013220           0.009036          0.015175\n",
       "min            0.000000         0.000000           0.000000          0.000000\n",
       "25%            0.104661         0.203068           0.158676          0.204356\n",
       "50%            0.107256         0.210774           0.161464          0.212967\n",
       "75%            0.110955         0.217379           0.165482          0.220047\n",
       "max            1.000000         1.000000           1.000000          1.000000"
      ]
     },
     "execution_count": 80,
     "metadata": {},
     "output_type": "execute_result"
    }
   ],
   "source": [
    "minMaxScaler = MinMaxScaler()\n",
    "minMaxScaler.fit(X_train)\n",
    "X_train_mms = pd.DataFrame(minMaxScaler.transform(X_train), columns=X.columns)\n",
    "X_test_mms = pd.DataFrame(minMaxScaler.transform(X_test), columns=X.columns)\n",
    "X_train_mms.describe()"
   ]
  },
  {
   "cell_type": "code",
   "execution_count": 81,
   "metadata": {},
   "outputs": [],
   "source": [
    "np.set_printoptions(suppress=True)"
   ]
  },
  {
   "cell_type": "code",
   "execution_count": 82,
   "metadata": {},
   "outputs": [
    {
     "name": "stderr",
     "output_type": "stream",
     "text": [
      "/var/folders/5d/l3gccf09179d25ftrzf6stwh0000gn/T/ipykernel_774/2724845599.py:23: RuntimeWarning: overflow encountered in multiply\n",
      "  w = w - self.lr * 2 * np.dot(X.T, np.dot(X, w) - y) / X.shape[0]\n"
     ]
    },
    {
     "name": "stdout",
     "output_type": "stream",
     "text": [
      "5001\n",
      "MAE: nan\n",
      "MSE: nan\n",
      "RMSE: nan\n",
      "MAPE: nan\n",
      "R^2: nan\n"
     ]
    }
   ],
   "source": [
    "myLinearRegression = MyLinearRegression()\n",
    "model = myLinearRegression.fit(X_train_std, y_train)\n",
    "y_pred_pf = myLinearRegression.predict(X_test_std)\n",
    "print(f'MAE: {Metrics.mean_absolute_error(y_test, y_pred_pf)}')\n",
    "print(f'MSE: {Metrics.mean_squared_error(y_test, y_pred_pf)}')\n",
    "print(f'RMSE: {Metrics.root_mean_squared_error(y_test, y_pred_pf)}')\n",
    "print(f'MAPE: {Metrics.mean_absolute_percentage_error(y_test, y_pred_pf)}')\n",
    "print(f'R^2: {Metrics.r_2_score(y_test, y_pred_pf):.7f}')"
   ]
  },
  {
   "cell_type": "code",
   "execution_count": 83,
   "metadata": {},
   "outputs": [
    {
     "name": "stderr",
     "output_type": "stream",
     "text": [
      "/var/folders/5d/l3gccf09179d25ftrzf6stwh0000gn/T/ipykernel_774/2724845599.py:23: RuntimeWarning: overflow encountered in multiply\n",
      "  w = w - self.lr * 2 * np.dot(X.T, np.dot(X, w) - y) / X.shape[0]\n"
     ]
    },
    {
     "name": "stdout",
     "output_type": "stream",
     "text": [
      "5001\n",
      "MAE: nan\n",
      "MSE: nan\n",
      "RMSE: nan\n",
      "MAPE: nan\n",
      "R^2: nan\n"
     ]
    }
   ],
   "source": [
    "myLinearRegression = MyLinearRegression()\n",
    "model = myLinearRegression.fit(X_train_mms, y_train)\n",
    "y_pred_pf = myLinearRegression.predict(X_test_mms)\n",
    "print(f'MAE: {Metrics.mean_absolute_error(y_test, y_pred_pf)}')\n",
    "print(f'MSE: {Metrics.mean_squared_error(y_test, y_pred_pf)}')\n",
    "print(f'RMSE: {Metrics.root_mean_squared_error(y_test, y_pred_pf)}')\n",
    "print(f'MAPE: {Metrics.mean_absolute_percentage_error(y_test, y_pred_pf)}')\n",
    "print(f'R^2: {Metrics.r_2_score(y_test, y_pred_pf):.7f}')"
   ]
  },
  {
   "cell_type": "code",
   "execution_count": 84,
   "metadata": {},
   "outputs": [],
   "source": [
    "import numpy as np\n",
    "class MyRidge:\n",
    "    def __init__( self, learning_rate, iterations, alpha ) :\n",
    "          \n",
    "        self.learning_rate = learning_rate        \n",
    "        self.iterations = iterations        \n",
    "        self.alpha = alpha\n",
    "\n",
    "    def transform_(self, x):\n",
    "        return np.concatenate((np.ones((len(x), 1)), x), axis = 1)\n",
    "\n",
    "    def loss_func(self, x, y, w):\n",
    "        sum((y - np.dot(x, w)) ** 2) / x.shape[0] + self.alpha * sum(w**2) /x.shape[0]\n",
    "\n",
    "    def fit(self, x, y):\n",
    "        dist = np.inf\n",
    "        eps = 1e-4\n",
    "        X = self.transform_(x)\n",
    "\n",
    "        w = np.zeros(X.shape[1])\n",
    "        iter = 0\n",
    "\n",
    "        while iter <= self.iterations:\n",
    "            loss = self.loss_func(X, y, w)\n",
    "            y_pred = self.predict(x)\n",
    "            dW = ( - ( 2 * ( X.T ).dot( y - y_pred ) ) +               \n",
    "               ( 2 * self.alpha * w ) ) / X.shape[0]\n",
    "            w = w - self.lr * dW\n",
    "            dist = np.abs(loss - self.loss_func(X, y, w))\n",
    "            iter += 1\n",
    "            \n",
    "            if(dist <+ eps):\n",
    "                break\n",
    "        print(iter)\n",
    "        self.w = w\n",
    "\n",
    "    def predict(self, x):\n",
    "        return np.dot(self.transform_(x), self.w)"
   ]
  },
  {
   "cell_type": "code",
   "execution_count": 85,
   "metadata": {},
   "outputs": [
    {
     "ename": "AttributeError",
     "evalue": "'MyRidge' object has no attribute 'w'",
     "output_type": "error",
     "traceback": [
      "\u001b[0;31m---------------------------------------------------------------------------\u001b[0m",
      "\u001b[0;31mAttributeError\u001b[0m                            Traceback (most recent call last)",
      "Cell \u001b[0;32mIn[85], line 2\u001b[0m\n\u001b[1;32m      1\u001b[0m ridge \u001b[39m=\u001b[39m MyRidge(\u001b[39m0.01\u001b[39m, \u001b[39m5000\u001b[39m, \u001b[39m0.5\u001b[39m)\n\u001b[0;32m----> 2\u001b[0m model \u001b[39m=\u001b[39m ridge\u001b[39m.\u001b[39;49mfit(X_train_mms, y_train)\n\u001b[1;32m      3\u001b[0m y_pred \u001b[39m=\u001b[39m model\u001b[39m.\u001b[39mpredict(X_test_mms)\n\u001b[1;32m      4\u001b[0m \u001b[39mprint\u001b[39m(\u001b[39mf\u001b[39m\u001b[39m'\u001b[39m\u001b[39mMAE: \u001b[39m\u001b[39m{\u001b[39;00mMetrics\u001b[39m.\u001b[39mmean_absolute_error(y_test,\u001b[39m \u001b[39my_pred)\u001b[39m}\u001b[39;00m\u001b[39m'\u001b[39m)\n",
      "Cell \u001b[0;32mIn[84], line 25\u001b[0m, in \u001b[0;36mMyRidge.fit\u001b[0;34m(self, x, y)\u001b[0m\n\u001b[1;32m     23\u001b[0m \u001b[39mwhile\u001b[39;00m \u001b[39miter\u001b[39m \u001b[39m<\u001b[39m\u001b[39m=\u001b[39m \u001b[39mself\u001b[39m\u001b[39m.\u001b[39miterations:\n\u001b[1;32m     24\u001b[0m     loss \u001b[39m=\u001b[39m \u001b[39mself\u001b[39m\u001b[39m.\u001b[39mloss_func(X, y, w)\n\u001b[0;32m---> 25\u001b[0m     y_pred \u001b[39m=\u001b[39m \u001b[39mself\u001b[39;49m\u001b[39m.\u001b[39;49mpredict(x)\n\u001b[1;32m     26\u001b[0m     dW \u001b[39m=\u001b[39m ( \u001b[39m-\u001b[39m ( \u001b[39m2\u001b[39m \u001b[39m*\u001b[39m ( X\u001b[39m.\u001b[39mT )\u001b[39m.\u001b[39mdot( y \u001b[39m-\u001b[39m y_pred ) ) \u001b[39m+\u001b[39m               \n\u001b[1;32m     27\u001b[0m        ( \u001b[39m2\u001b[39m \u001b[39m*\u001b[39m \u001b[39mself\u001b[39m\u001b[39m.\u001b[39malpha \u001b[39m*\u001b[39m w ) ) \u001b[39m/\u001b[39m X\u001b[39m.\u001b[39mshape[\u001b[39m0\u001b[39m]\n\u001b[1;32m     28\u001b[0m     w \u001b[39m=\u001b[39m w \u001b[39m-\u001b[39m \u001b[39mself\u001b[39m\u001b[39m.\u001b[39mlr \u001b[39m*\u001b[39m dW\n",
      "Cell \u001b[0;32mIn[84], line 38\u001b[0m, in \u001b[0;36mMyRidge.predict\u001b[0;34m(self, x)\u001b[0m\n\u001b[1;32m     37\u001b[0m \u001b[39mdef\u001b[39;00m \u001b[39mpredict\u001b[39m(\u001b[39mself\u001b[39m, x):\n\u001b[0;32m---> 38\u001b[0m     \u001b[39mreturn\u001b[39;00m np\u001b[39m.\u001b[39mdot(\u001b[39mself\u001b[39m\u001b[39m.\u001b[39mtransform_(x), \u001b[39mself\u001b[39;49m\u001b[39m.\u001b[39;49mw)\n",
      "\u001b[0;31mAttributeError\u001b[0m: 'MyRidge' object has no attribute 'w'"
     ]
    }
   ],
   "source": [
    "ridge = MyRidge(0.01, 5000, 0.5)\n",
    "model = ridge.fit(X_train_mms, y_train)\n",
    "y_pred = model.predict(X_test_mms)\n",
    "print(f'MAE: {Metrics.mean_absolute_error(y_test, y_pred)}')\n",
    "print(f'MSE: {Metrics.mean_squared_error(y_test, y_pred)}')\n",
    "print(f'RMSE: {Metrics.root_mean_squared_error(y_test, y_pred)}')\n",
    "print(f'MAPE: {Metrics.mean_absolute_percentage_error(y_test, y_pred)}')\n",
    "print(f'R^2: {Metrics.r_2_score(y_test, y_pred):.7f}')"
   ]
  }
 ],
 "metadata": {
  "kernelspec": {
   "display_name": "venv",
   "language": "python",
   "name": "python3"
  },
  "language_info": {
   "codemirror_mode": {
    "name": "ipython",
    "version": 3
   },
   "file_extension": ".py",
   "mimetype": "text/x-python",
   "name": "python",
   "nbconvert_exporter": "python",
   "pygments_lexer": "ipython3",
   "version": "3.9.6"
  },
  "orig_nbformat": 4,
  "vscode": {
   "interpreter": {
    "hash": "cc7558d8b538955255440c691f4d27b22048480a322d80a916b86607cd7dd3e4"
   }
  }
 },
 "nbformat": 4,
 "nbformat_minor": 2
}
