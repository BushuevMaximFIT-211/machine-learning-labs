{
 "cells": [
  {
   "cell_type": "code",
   "execution_count": null,
   "metadata": {},
   "outputs": [],
   "source": [
    "import pandas as pd\n",
    "from sklearn.model_selection import train_test_split\n",
    "from sklearn.preprocessing import StandardScaler, MinMaxScaler\n",
    "from sklearn.metrics import mean_squared_error, mean_absolute_error, mean_absolute_percentage_error, r2_score\n"
   ]
  },
  {
   "cell_type": "code",
   "execution_count": null,
   "metadata": {},
   "outputs": [],
   "source": [
    "import numpy as np\n",
    "class Metrics:\n",
    "    @staticmethod\n",
    "    def  mean_absolute_error(y_test, y_pred):\n",
    "        y_true, predictions = np.array(y_test), np.array(y_pred)\n",
    "        return float(np.mean(np.abs(y_true-predictions)))\n",
    "    @staticmethod\n",
    "    def mean_squared_error(y_test, y_pred):\n",
    "        y_true, predictions = np.array(y_test), np.array(y_pred)\n",
    "        return float(np.mean((y_true-predictions)**2))\n",
    "    @staticmethod\n",
    "    def root_mean_squared_error(y_test, y_pred):\n",
    "        return float(np.sqrt(Metrics.mean_squared_error(y_test, y_pred)))\n",
    "    @staticmethod\n",
    "    def mean_absolute_percentage_error(y_test, y_pred):\n",
    "        y_true, predictions = np.array(y_test), np.array(y_pred)\n",
    "        return float(np.mean(np.abs((y_true-predictions)/y_true)))\n",
    "    @staticmethod\n",
    "    def r_2_score( y_test, y_pred):\n",
    "        y_true, predictions = np.array(y_test), np.array(y_pred)\n",
    "        mean_value = np.mean(y_test)\n",
    "        return float(1 - np.sum((y_true - predictions)**2)/ np.sum((y_true - mean_value)**2))\n",
    "    "
   ]
  },
  {
   "cell_type": "code",
   "execution_count": null,
   "metadata": {},
   "outputs": [],
   "source": [
    "import numpy as np\n",
    "class MyLinearRegression:\n",
    "    def __init__(self, lr = 10-20, iters = 5000):\n",
    "        self.lr = lr\n",
    "        self.iters = iters\n",
    "\n",
    "    def transform_(self, x):\n",
    "        return np.concatenate((np.ones((len(x), 1)), x), axis = 1)\n",
    "\n",
    "    def loss_func(self, x, y, w):\n",
    "        return sum((y - np.dot(x, w)) ** 2) / x.shape[0]\n",
    "\n",
    "    def fit(self, x, y):\n",
    "        dist = np.inf\n",
    "        eps = 1e-20\n",
    "        X = self.transform_(x)\n",
    "\n",
    "        w = np.zeros(X.shape[1])\n",
    "        iter = 0\n",
    "\n",
    "        while iter <= self.iters:\n",
    "            loss = self.loss_func(X, y, w)\n",
    "            w = w - self.lr * 2 * np.dot(X.T, np.dot(X, w) - y) / X.shape[0]\n",
    "            dist = np.abs(loss - self.loss_func(X, y, w))\n",
    "            iter += 1\n",
    "            \n",
    "            if(dist <= eps):\n",
    "                break\n",
    "        print(iter)\n",
    "        self.w = w\n",
    "\n",
    "    def predict(self, x):\n",
    "        return np.dot(self.transform_(x), self.w)"
   ]
  },
  {
   "cell_type": "code",
   "execution_count": null,
   "metadata": {},
   "outputs": [],
   "source": [
    "data= pd.read_csv(\"../data/trip_duration_task_m.csv\")\n"
   ]
  },
  {
   "cell_type": "code",
   "execution_count": null,
   "metadata": {},
   "outputs": [
    {
     "name": "stdout",
     "output_type": "stream",
     "text": [
      "<class 'pandas.core.frame.DataFrame'>\n",
      "RangeIndex: 199494 entries, 0 to 199493\n",
      "Data columns (total 6 columns):\n",
      " #   Column             Non-Null Count   Dtype  \n",
      "---  ------             --------------   -----  \n",
      " 0   Unnamed: 0         199494 non-null  int64  \n",
      " 1   pickup_longitude   199494 non-null  float64\n",
      " 2   pickup_latitude    199494 non-null  float64\n",
      " 3   dropoff_longitude  199494 non-null  float64\n",
      " 4   dropoff_latitude   199494 non-null  float64\n",
      " 5   trip_duration      199494 non-null  int64  \n",
      "dtypes: float64(4), int64(2)\n",
      "memory usage: 9.1 MB\n"
     ]
    }
   ],
   "source": [
    "data.info()"
   ]
  },
  {
   "cell_type": "code",
   "execution_count": null,
   "metadata": {},
   "outputs": [],
   "source": [
    "y = data['trip_duration']\n",
    "X = data.drop(['trip_duration'], axis=1)"
   ]
  },
  {
   "cell_type": "code",
   "execution_count": null,
   "metadata": {},
   "outputs": [],
   "source": [
    "X_train, X_test, y_train, y_test = train_test_split(X, y, test_size=0.2)"
   ]
  },
  {
   "cell_type": "code",
   "execution_count": null,
   "metadata": {},
   "outputs": [
    {
     "data": {
      "text/html": [
       "<div>\n",
       "<style scoped>\n",
       "    .dataframe tbody tr th:only-of-type {\n",
       "        vertical-align: middle;\n",
       "    }\n",
       "\n",
       "    .dataframe tbody tr th {\n",
       "        vertical-align: top;\n",
       "    }\n",
       "\n",
       "    .dataframe thead th {\n",
       "        text-align: right;\n",
       "    }\n",
       "</style>\n",
       "<table border=\"1\" class=\"dataframe\">\n",
       "  <thead>\n",
       "    <tr style=\"text-align: right;\">\n",
       "      <th></th>\n",
       "      <th>Unnamed: 0</th>\n",
       "      <th>pickup_longitude</th>\n",
       "      <th>pickup_latitude</th>\n",
       "      <th>dropoff_longitude</th>\n",
       "      <th>dropoff_latitude</th>\n",
       "    </tr>\n",
       "  </thead>\n",
       "  <tbody>\n",
       "    <tr>\n",
       "      <th>count</th>\n",
       "      <td>1.595950e+05</td>\n",
       "      <td>1.595950e+05</td>\n",
       "      <td>1.595950e+05</td>\n",
       "      <td>1.595950e+05</td>\n",
       "      <td>1.595950e+05</td>\n",
       "    </tr>\n",
       "    <tr>\n",
       "      <th>mean</th>\n",
       "      <td>-4.461066e-17</td>\n",
       "      <td>-1.686776e-13</td>\n",
       "      <td>8.528910e-14</td>\n",
       "      <td>1.641874e-13</td>\n",
       "      <td>-7.142683e-14</td>\n",
       "    </tr>\n",
       "    <tr>\n",
       "      <th>std</th>\n",
       "      <td>1.000003e+00</td>\n",
       "      <td>1.000003e+00</td>\n",
       "      <td>1.000003e+00</td>\n",
       "      <td>1.000003e+00</td>\n",
       "      <td>1.000003e+00</td>\n",
       "    </tr>\n",
       "    <tr>\n",
       "      <th>min</th>\n",
       "      <td>-1.730240e+00</td>\n",
       "      <td>-1.077335e+01</td>\n",
       "      <td>-1.182349e+01</td>\n",
       "      <td>-1.804508e+01</td>\n",
       "      <td>-1.398447e+01</td>\n",
       "    </tr>\n",
       "    <tr>\n",
       "      <th>25%</th>\n",
       "      <td>-8.660072e-01</td>\n",
       "      <td>-4.693849e-01</td>\n",
       "      <td>-4.751166e-01</td>\n",
       "      <td>-4.786297e-01</td>\n",
       "      <td>-4.870399e-01</td>\n",
       "    </tr>\n",
       "    <tr>\n",
       "      <th>50%</th>\n",
       "      <td>-2.363007e-03</td>\n",
       "      <td>-2.142885e-01</td>\n",
       "      <td>1.074881e-01</td>\n",
       "      <td>-1.696043e-01</td>\n",
       "      <td>7.989826e-02</td>\n",
       "    </tr>\n",
       "    <tr>\n",
       "      <th>75%</th>\n",
       "      <td>8.681447e-01</td>\n",
       "      <td>1.494171e-01</td>\n",
       "      <td>6.110231e-01</td>\n",
       "      <td>2.734069e-01</td>\n",
       "      <td>5.477022e-01</td>\n",
       "    </tr>\n",
       "    <tr>\n",
       "      <th>max</th>\n",
       "      <td>1.731763e+00</td>\n",
       "      <td>8.767898e+01</td>\n",
       "      <td>5.980283e+01</td>\n",
       "      <td>9.267015e+01</td>\n",
       "      <td>5.207159e+01</td>\n",
       "    </tr>\n",
       "  </tbody>\n",
       "</table>\n",
       "</div>"
      ],
      "text/plain": [
       "         Unnamed: 0  pickup_longitude  pickup_latitude  dropoff_longitude  \\\n",
       "count  1.595950e+05      1.595950e+05     1.595950e+05       1.595950e+05   \n",
       "mean  -4.461066e-17     -1.686776e-13     8.528910e-14       1.641874e-13   \n",
       "std    1.000003e+00      1.000003e+00     1.000003e+00       1.000003e+00   \n",
       "min   -1.730240e+00     -1.077335e+01    -1.182349e+01      -1.804508e+01   \n",
       "25%   -8.660072e-01     -4.693849e-01    -4.751166e-01      -4.786297e-01   \n",
       "50%   -2.363007e-03     -2.142885e-01     1.074881e-01      -1.696043e-01   \n",
       "75%    8.681447e-01      1.494171e-01     6.110231e-01       2.734069e-01   \n",
       "max    1.731763e+00      8.767898e+01     5.980283e+01       9.267015e+01   \n",
       "\n",
       "       dropoff_latitude  \n",
       "count      1.595950e+05  \n",
       "mean      -7.142683e-14  \n",
       "std        1.000003e+00  \n",
       "min       -1.398447e+01  \n",
       "25%       -4.870399e-01  \n",
       "50%        7.989826e-02  \n",
       "75%        5.477022e-01  \n",
       "max        5.207159e+01  "
      ]
     },
     "execution_count": 278,
     "metadata": {},
     "output_type": "execute_result"
    }
   ],
   "source": [
    "standardScaler = StandardScaler()\n",
    "standardScaler.fit(X_train)\n",
    "X_train_std = pd.DataFrame(standardScaler.transform(X_train), columns=X.columns)\n",
    "X_test_std = pd.DataFrame(standardScaler.transform(X_test), columns=X.columns)\n",
    "X_train_std.describe()"
   ]
  },
  {
   "cell_type": "code",
   "execution_count": null,
   "metadata": {},
   "outputs": [
    {
     "data": {
      "text/html": [
       "<div>\n",
       "<style scoped>\n",
       "    .dataframe tbody tr th:only-of-type {\n",
       "        vertical-align: middle;\n",
       "    }\n",
       "\n",
       "    .dataframe tbody tr th {\n",
       "        vertical-align: top;\n",
       "    }\n",
       "\n",
       "    .dataframe thead th {\n",
       "        text-align: right;\n",
       "    }\n",
       "</style>\n",
       "<table border=\"1\" class=\"dataframe\">\n",
       "  <thead>\n",
       "    <tr style=\"text-align: right;\">\n",
       "      <th></th>\n",
       "      <th>Unnamed: 0</th>\n",
       "      <th>pickup_longitude</th>\n",
       "      <th>pickup_latitude</th>\n",
       "      <th>dropoff_longitude</th>\n",
       "      <th>dropoff_latitude</th>\n",
       "    </tr>\n",
       "  </thead>\n",
       "  <tbody>\n",
       "    <tr>\n",
       "      <th>count</th>\n",
       "      <td>159595.000000</td>\n",
       "      <td>159595.000000</td>\n",
       "      <td>159595.000000</td>\n",
       "      <td>159595.000000</td>\n",
       "      <td>159595.000000</td>\n",
       "    </tr>\n",
       "    <tr>\n",
       "      <th>mean</th>\n",
       "      <td>0.499780</td>\n",
       "      <td>0.109427</td>\n",
       "      <td>0.165072</td>\n",
       "      <td>0.162986</td>\n",
       "      <td>0.211706</td>\n",
       "    </tr>\n",
       "    <tr>\n",
       "      <th>std</th>\n",
       "      <td>0.288851</td>\n",
       "      <td>0.010157</td>\n",
       "      <td>0.013961</td>\n",
       "      <td>0.009032</td>\n",
       "      <td>0.015139</td>\n",
       "    </tr>\n",
       "    <tr>\n",
       "      <th>min</th>\n",
       "      <td>0.000000</td>\n",
       "      <td>0.000000</td>\n",
       "      <td>0.000000</td>\n",
       "      <td>0.000000</td>\n",
       "      <td>0.000000</td>\n",
       "    </tr>\n",
       "    <tr>\n",
       "      <th>25%</th>\n",
       "      <td>0.249634</td>\n",
       "      <td>0.104659</td>\n",
       "      <td>0.158439</td>\n",
       "      <td>0.158663</td>\n",
       "      <td>0.204333</td>\n",
       "    </tr>\n",
       "    <tr>\n",
       "      <th>50%</th>\n",
       "      <td>0.499097</td>\n",
       "      <td>0.107250</td>\n",
       "      <td>0.166572</td>\n",
       "      <td>0.161455</td>\n",
       "      <td>0.212916</td>\n",
       "    </tr>\n",
       "    <tr>\n",
       "      <th>75%</th>\n",
       "      <td>0.750544</td>\n",
       "      <td>0.110945</td>\n",
       "      <td>0.173603</td>\n",
       "      <td>0.165456</td>\n",
       "      <td>0.219998</td>\n",
       "    </tr>\n",
       "    <tr>\n",
       "      <th>max</th>\n",
       "      <td>1.000000</td>\n",
       "      <td>1.000000</td>\n",
       "      <td>1.000000</td>\n",
       "      <td>1.000000</td>\n",
       "      <td>1.000000</td>\n",
       "    </tr>\n",
       "  </tbody>\n",
       "</table>\n",
       "</div>"
      ],
      "text/plain": [
       "          Unnamed: 0  pickup_longitude  pickup_latitude  dropoff_longitude  \\\n",
       "count  159595.000000     159595.000000    159595.000000      159595.000000   \n",
       "mean        0.499780          0.109427         0.165072           0.162986   \n",
       "std         0.288851          0.010157         0.013961           0.009032   \n",
       "min         0.000000          0.000000         0.000000           0.000000   \n",
       "25%         0.249634          0.104659         0.158439           0.158663   \n",
       "50%         0.499097          0.107250         0.166572           0.161455   \n",
       "75%         0.750544          0.110945         0.173603           0.165456   \n",
       "max         1.000000          1.000000         1.000000           1.000000   \n",
       "\n",
       "       dropoff_latitude  \n",
       "count     159595.000000  \n",
       "mean           0.211706  \n",
       "std            0.015139  \n",
       "min            0.000000  \n",
       "25%            0.204333  \n",
       "50%            0.212916  \n",
       "75%            0.219998  \n",
       "max            1.000000  "
      ]
     },
     "execution_count": 279,
     "metadata": {},
     "output_type": "execute_result"
    }
   ],
   "source": [
    "minMaxScaler = MinMaxScaler()\n",
    "minMaxScaler.fit(X_train)\n",
    "X_train_mms = pd.DataFrame(minMaxScaler.transform(X_train), columns=X.columns)\n",
    "X_test_mms = pd.DataFrame(minMaxScaler.transform(X_test), columns=X.columns)\n",
    "X_train_mms.describe()"
   ]
  },
  {
   "cell_type": "code",
   "execution_count": null,
   "metadata": {},
   "outputs": [],
   "source": [
    "np.set_printoptions(suppress=True)"
   ]
  },
  {
   "cell_type": "code",
   "execution_count": 281,
   "metadata": {},
   "outputs": [
    {
     "name": "stderr",
     "output_type": "stream",
     "text": [
      "/tmp/ipykernel_7654/1077224325.py:23: RuntimeWarning: overflow encountered in multiply\n",
      "  w = w - self.lr * 2 * np.dot(X.T, np.dot(X, w) - y) / X.shape[0]\n"
     ]
    }
   ],
   "source": [
    "myLinearRegression = MyLinearRegression()\n",
    "model = myLinearRegression.fit(X_train_std, y_train)\n",
    "y_pred_pf = myLinearRegression.predict(X_test_std)\n",
    "print(f'MAE: {Metrics.mean_absolute_error(y_test, y_pred_pf)}')\n",
    "print(f'MSE: {Metrics.mean_squared_error(y_test, y_pred_pf)}')\n",
    "print(f'RMSE: {Metrics.root_mean_squared_error(y_test, y_pred_pf)}')\n",
    "print(f'MAPE: {Metrics.mean_absolute_percentage_error(y_test, y_pred_pf)}')\n",
    "print(f'R^2: {Metrics.r_2_score(y_test, y_pred_pf):.7f}')\n",
    "print(f'R^2: {r2_score(y_test, y_pred_pf):.7f}')"
   ]
  },
  {
   "cell_type": "code",
   "execution_count": null,
   "metadata": {},
   "outputs": [
    {
     "name": "stdout",
     "output_type": "stream",
     "text": [
      "1\n",
      "MAE: 936.4554750745633\n",
      "MSE: 9646760.248452343\n",
      "RMSE: 3105.923413165937\n",
      "MAPE: 1.0\n",
      "R^2: -0.0999963\n",
      "R^2: -0.0999963\n"
     ]
    }
   ],
   "source": [
    "myLinearRegression = MyLinearRegression()\n",
    "model = myLinearRegression.fit(X_train_mms, y_train)\n",
    "y_pred_pf = myLinearRegression.predict(X_test_mms)\n",
    "print(f'MAE: {Metrics.mean_absolute_error(y_test, y_pred_pf)}')\n",
    "print(f'MSE: {Metrics.mean_squared_error(y_test, y_pred_pf)}')\n",
    "print(f'RMSE: {Metrics.root_mean_squared_error(y_test, y_pred_pf)}')\n",
    "print(f'MAPE: {Metrics.mean_absolute_percentage_error(y_test, y_pred_pf)}')\n",
    "print(f'R^2: {Metrics.r_2_score(y_test, y_pred_pf):.7f}')\n",
    "print(f'R^2: {r2_score(y_test, y_pred_pf):.7f}')"
   ]
  }
 ],
 "metadata": {
  "kernelspec": {
   "display_name": "venv",
   "language": "python",
   "name": "python3"
  },
  "language_info": {
   "codemirror_mode": {
    "name": "ipython",
    "version": 3
   },
   "file_extension": ".py",
   "mimetype": "text/x-python",
   "name": "python",
   "nbconvert_exporter": "python",
   "pygments_lexer": "ipython3",
   "version": "3.10.6"
  },
  "orig_nbformat": 4,
  "vscode": {
   "interpreter": {
    "hash": "cc7558d8b538955255440c691f4d27b22048480a322d80a916b86607cd7dd3e4"
   }
  }
 },
 "nbformat": 4,
 "nbformat_minor": 2
}
