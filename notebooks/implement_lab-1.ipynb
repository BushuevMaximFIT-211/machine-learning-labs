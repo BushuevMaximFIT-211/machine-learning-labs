{
 "cells": [
  {
   "cell_type": "code",
   "execution_count": 197,
   "metadata": {},
   "outputs": [],
   "source": [
    "import pandas as pd\n",
    "from sklearn.model_selection import train_test_split\n",
    "from sklearn.preprocessing import StandardScaler, MinMaxScaler\n",
    "from sklearn.metrics import r2_score"
   ]
  },
  {
   "cell_type": "code",
   "execution_count": 198,
   "metadata": {},
   "outputs": [],
   "source": [
    "import numpy as np\n",
    "class Metrics:\n",
    "    @staticmethod\n",
    "    def  mean_absolute_error(y_test, y_pred):\n",
    "        y_true, predictions = np.array(y_test), np.array(y_pred)\n",
    "        return float(np.mean(np.abs(y_true-predictions)))\n",
    "    @staticmethod\n",
    "    def mean_squared_error(y_test, y_pred):\n",
    "        y_true, predictions = np.array(y_test), np.array(y_pred)\n",
    "        return float(np.mean((y_true-predictions)**2))\n",
    "    @staticmethod\n",
    "    def root_mean_squared_error(y_test, y_pred):\n",
    "        return float(np.sqrt(Metrics.mean_squared_error(y_test, y_pred)))\n",
    "    @staticmethod\n",
    "    def mean_absolute_percentage_error(y_test, y_pred):\n",
    "        y_true, predictions = np.array(y_test), np.array(y_pred)\n",
    "        return float(np.mean(np.abs((y_true-predictions)/y_true)))\n",
    "    @staticmethod\n",
    "    def r_2_score( y_test, y_pred):\n",
    "        y_true, predictions = np.array(y_test), np.array(y_pred)\n",
    "        mean_value = np.mean(y_test)\n",
    "        return float(1 - np.sum((y_true - predictions)**2)/ np.sum((y_true - mean_value)**2))\n",
    "    "
   ]
  },
  {
   "cell_type": "code",
   "execution_count": 199,
   "metadata": {},
   "outputs": [],
   "source": [
    "import numpy as np\n",
    "class MyLinearRegression:\n",
    "    def __init__( self, learning_rate = 0.001, iterations =500 ) :\n",
    "        self.learning_rate = learning_rate        \n",
    "        self.iterations = iterations        \n",
    "\n",
    "    def transform_(self, x):\n",
    "        return np.concatenate((np.ones((len(x), 1)), x), axis = 1)\n",
    "\n",
    "    def loss_func(self, x, y):\n",
    "        return sum((y - np.dot(x, self.w)) ** 2  )/x.shape[0]\n",
    "\n",
    "    def fit(self, x, y):\n",
    "        dist = np.inf\n",
    "        eps = 1e-20\n",
    "        X = self.transform_(x)\n",
    "\n",
    "        self.w = np.zeros(X.shape[1])\n",
    "        iter = 0\n",
    "\n",
    "        while iter <= self.iterations:\n",
    "            loss = self.loss_func(X, y)\n",
    "            y_pred = self.predict(x)\n",
    "            dW = ( - ( 2 * ( X.T ).dot( y - y_pred ) ) ) / X.shape[0]\n",
    "            self.w = self.w - self.learning_rate * dW\n",
    "            dist = np.abs(loss - self.loss_func(X, y))\n",
    "            iter += 1\n",
    "            \n",
    "            if(dist <= eps):\n",
    "                break\n",
    "        print(iter)\n",
    "        return self\n",
    "        \n",
    "\n",
    "    def predict(self, x):\n",
    "        return np.dot(self.transform_(x), self.w)"
   ]
  },
  {
   "cell_type": "code",
   "execution_count": 200,
   "metadata": {},
   "outputs": [],
   "source": [
    "data= pd.read_csv(\"../data/trip_duration_task_m.csv\")\n",
    "data.drop([\"Unnamed: 0\"], axis=1, inplace=True)\n"
   ]
  },
  {
   "cell_type": "code",
   "execution_count": 201,
   "metadata": {},
   "outputs": [
    {
     "name": "stdout",
     "output_type": "stream",
     "text": [
      "<class 'pandas.core.frame.DataFrame'>\n",
      "RangeIndex: 199494 entries, 0 to 199493\n",
      "Data columns (total 5 columns):\n",
      " #   Column             Non-Null Count   Dtype  \n",
      "---  ------             --------------   -----  \n",
      " 0   pickup_longitude   199494 non-null  float64\n",
      " 1   pickup_latitude    199494 non-null  float64\n",
      " 2   dropoff_longitude  199494 non-null  float64\n",
      " 3   dropoff_latitude   199494 non-null  float64\n",
      " 4   trip_duration      199494 non-null  int64  \n",
      "dtypes: float64(4), int64(1)\n",
      "memory usage: 7.6 MB\n"
     ]
    }
   ],
   "source": [
    "data.info()"
   ]
  },
  {
   "cell_type": "code",
   "execution_count": 202,
   "metadata": {},
   "outputs": [],
   "source": [
    "y = data['trip_duration']\n",
    "X = data.drop(['trip_duration'], axis=1)"
   ]
  },
  {
   "cell_type": "code",
   "execution_count": 203,
   "metadata": {},
   "outputs": [],
   "source": [
    "X_train, X_test, y_train, y_test = train_test_split(X, y, test_size=0.2)"
   ]
  },
  {
   "cell_type": "code",
   "execution_count": 204,
   "metadata": {},
   "outputs": [
    {
     "data": {
      "text/html": [
       "<div>\n",
       "<style scoped>\n",
       "    .dataframe tbody tr th:only-of-type {\n",
       "        vertical-align: middle;\n",
       "    }\n",
       "\n",
       "    .dataframe tbody tr th {\n",
       "        vertical-align: top;\n",
       "    }\n",
       "\n",
       "    .dataframe thead th {\n",
       "        text-align: right;\n",
       "    }\n",
       "</style>\n",
       "<table border=\"1\" class=\"dataframe\">\n",
       "  <thead>\n",
       "    <tr style=\"text-align: right;\">\n",
       "      <th></th>\n",
       "      <th>pickup_longitude</th>\n",
       "      <th>pickup_latitude</th>\n",
       "      <th>dropoff_longitude</th>\n",
       "      <th>dropoff_latitude</th>\n",
       "    </tr>\n",
       "  </thead>\n",
       "  <tbody>\n",
       "    <tr>\n",
       "      <th>count</th>\n",
       "      <td>1.595950e+05</td>\n",
       "      <td>1.595950e+05</td>\n",
       "      <td>1.595950e+05</td>\n",
       "      <td>1.595950e+05</td>\n",
       "    </tr>\n",
       "    <tr>\n",
       "      <th>mean</th>\n",
       "      <td>-1.484125e-13</td>\n",
       "      <td>3.281083e-14</td>\n",
       "      <td>-1.223501e-13</td>\n",
       "      <td>6.230687e-14</td>\n",
       "    </tr>\n",
       "    <tr>\n",
       "      <th>std</th>\n",
       "      <td>1.000003e+00</td>\n",
       "      <td>1.000003e+00</td>\n",
       "      <td>1.000003e+00</td>\n",
       "      <td>1.000003e+00</td>\n",
       "    </tr>\n",
       "    <tr>\n",
       "      <th>min</th>\n",
       "      <td>-1.103260e+01</td>\n",
       "      <td>-1.595875e+01</td>\n",
       "      <td>-1.846559e+01</td>\n",
       "      <td>-1.403303e+01</td>\n",
       "    </tr>\n",
       "    <tr>\n",
       "      <th>25%</th>\n",
       "      <td>-4.793743e-01</td>\n",
       "      <td>-4.755681e-01</td>\n",
       "      <td>-4.901400e-01</td>\n",
       "      <td>-4.912182e-01</td>\n",
       "    </tr>\n",
       "    <tr>\n",
       "      <th>50%</th>\n",
       "      <td>-2.183098e-01</td>\n",
       "      <td>1.119779e-01</td>\n",
       "      <td>-1.745540e-01</td>\n",
       "      <td>8.261896e-02</td>\n",
       "    </tr>\n",
       "    <tr>\n",
       "      <th>75%</th>\n",
       "      <td>1.551767e-01</td>\n",
       "      <td>6.154925e-01</td>\n",
       "      <td>2.818964e-01</td>\n",
       "      <td>5.521752e-01</td>\n",
       "    </tr>\n",
       "    <tr>\n",
       "      <th>max</th>\n",
       "      <td>1.413905e+01</td>\n",
       "      <td>2.001555e+01</td>\n",
       "      <td>1.974854e+01</td>\n",
       "      <td>1.733183e+01</td>\n",
       "    </tr>\n",
       "  </tbody>\n",
       "</table>\n",
       "</div>"
      ],
      "text/plain": [
       "       pickup_longitude  pickup_latitude  dropoff_longitude  dropoff_latitude\n",
       "count      1.595950e+05     1.595950e+05       1.595950e+05      1.595950e+05\n",
       "mean      -1.484125e-13     3.281083e-14      -1.223501e-13      6.230687e-14\n",
       "std        1.000003e+00     1.000003e+00       1.000003e+00      1.000003e+00\n",
       "min       -1.103260e+01    -1.595875e+01      -1.846559e+01     -1.403303e+01\n",
       "25%       -4.793743e-01    -4.755681e-01      -4.901400e-01     -4.912182e-01\n",
       "50%       -2.183098e-01     1.119779e-01      -1.745540e-01      8.261896e-02\n",
       "75%        1.551767e-01     6.154925e-01       2.818964e-01      5.521752e-01\n",
       "max        1.413905e+01     2.001555e+01       1.974854e+01      1.733183e+01"
      ]
     },
     "execution_count": 204,
     "metadata": {},
     "output_type": "execute_result"
    }
   ],
   "source": [
    "standardScaler = StandardScaler()\n",
    "standardScaler.fit(X_train)\n",
    "X_train_std = pd.DataFrame(standardScaler.transform(X_train), columns=X.columns)\n",
    "X_test_std = pd.DataFrame(standardScaler.transform(X_test), columns=X.columns)\n",
    "X_train_std.describe()"
   ]
  },
  {
   "cell_type": "code",
   "execution_count": 205,
   "metadata": {},
   "outputs": [
    {
     "data": {
      "text/html": [
       "<div>\n",
       "<style scoped>\n",
       "    .dataframe tbody tr th:only-of-type {\n",
       "        vertical-align: middle;\n",
       "    }\n",
       "\n",
       "    .dataframe tbody tr th {\n",
       "        vertical-align: top;\n",
       "    }\n",
       "\n",
       "    .dataframe thead th {\n",
       "        text-align: right;\n",
       "    }\n",
       "</style>\n",
       "<table border=\"1\" class=\"dataframe\">\n",
       "  <thead>\n",
       "    <tr style=\"text-align: right;\">\n",
       "      <th></th>\n",
       "      <th>pickup_longitude</th>\n",
       "      <th>pickup_latitude</th>\n",
       "      <th>dropoff_longitude</th>\n",
       "      <th>dropoff_latitude</th>\n",
       "    </tr>\n",
       "  </thead>\n",
       "  <tbody>\n",
       "    <tr>\n",
       "      <th>count</th>\n",
       "      <td>159595.000000</td>\n",
       "      <td>159595.000000</td>\n",
       "      <td>159595.000000</td>\n",
       "      <td>159595.000000</td>\n",
       "    </tr>\n",
       "    <tr>\n",
       "      <th>mean</th>\n",
       "      <td>0.438295</td>\n",
       "      <td>0.443615</td>\n",
       "      <td>0.483214</td>\n",
       "      <td>0.447412</td>\n",
       "    </tr>\n",
       "    <tr>\n",
       "      <th>std</th>\n",
       "      <td>0.039727</td>\n",
       "      <td>0.027798</td>\n",
       "      <td>0.026168</td>\n",
       "      <td>0.031883</td>\n",
       "    </tr>\n",
       "    <tr>\n",
       "      <th>min</th>\n",
       "      <td>0.000000</td>\n",
       "      <td>0.000000</td>\n",
       "      <td>0.000000</td>\n",
       "      <td>0.000000</td>\n",
       "    </tr>\n",
       "    <tr>\n",
       "      <th>25%</th>\n",
       "      <td>0.419250</td>\n",
       "      <td>0.430396</td>\n",
       "      <td>0.470387</td>\n",
       "      <td>0.431751</td>\n",
       "    </tr>\n",
       "    <tr>\n",
       "      <th>50%</th>\n",
       "      <td>0.429622</td>\n",
       "      <td>0.446728</td>\n",
       "      <td>0.478646</td>\n",
       "      <td>0.450047</td>\n",
       "    </tr>\n",
       "    <tr>\n",
       "      <th>75%</th>\n",
       "      <td>0.444459</td>\n",
       "      <td>0.460724</td>\n",
       "      <td>0.490590</td>\n",
       "      <td>0.465017</td>\n",
       "    </tr>\n",
       "    <tr>\n",
       "      <th>max</th>\n",
       "      <td>1.000000</td>\n",
       "      <td>1.000000</td>\n",
       "      <td>1.000000</td>\n",
       "      <td>1.000000</td>\n",
       "    </tr>\n",
       "  </tbody>\n",
       "</table>\n",
       "</div>"
      ],
      "text/plain": [
       "       pickup_longitude  pickup_latitude  dropoff_longitude  dropoff_latitude\n",
       "count     159595.000000    159595.000000      159595.000000     159595.000000\n",
       "mean           0.438295         0.443615           0.483214          0.447412\n",
       "std            0.039727         0.027798           0.026168          0.031883\n",
       "min            0.000000         0.000000           0.000000          0.000000\n",
       "25%            0.419250         0.430396           0.470387          0.431751\n",
       "50%            0.429622         0.446728           0.478646          0.450047\n",
       "75%            0.444459         0.460724           0.490590          0.465017\n",
       "max            1.000000         1.000000           1.000000          1.000000"
      ]
     },
     "execution_count": 205,
     "metadata": {},
     "output_type": "execute_result"
    }
   ],
   "source": [
    "minMaxScaler = MinMaxScaler()\n",
    "minMaxScaler.fit(X_train)\n",
    "X_train_mms = pd.DataFrame(minMaxScaler.transform(X_train), columns=X.columns)\n",
    "X_test_mms = pd.DataFrame(minMaxScaler.transform(X_test), columns=X.columns)\n",
    "X_train_mms.describe()"
   ]
  },
  {
   "cell_type": "code",
   "execution_count": 206,
   "metadata": {},
   "outputs": [],
   "source": [
    "np.set_printoptions(suppress=True)"
   ]
  },
  {
   "cell_type": "code",
   "execution_count": 207,
   "metadata": {},
   "outputs": [
    {
     "name": "stdout",
     "output_type": "stream",
     "text": [
      "501\n",
      "MAE: 572.1673892881752\n",
      "MSE: 12680734.266096745\n",
      "RMSE: 3561.0018626921196\n",
      "MAPE: 0.9900343255479964\n",
      "R^2: 0.0000448\n"
     ]
    }
   ],
   "source": [
    "myLinearRegression = MyLinearRegression()\n",
    "model = myLinearRegression.fit(X_train_std, y_train)\n",
    "y_pred_pf = myLinearRegression.predict(X_test_std)\n",
    "print(f'MAE: {Metrics.mean_absolute_error(y_test, y_pred_pf)}')\n",
    "print(f'MSE: {Metrics.mean_squared_error(y_test, y_pred_pf)}')\n",
    "print(f'RMSE: {Metrics.root_mean_squared_error(y_test, y_pred_pf)}')\n",
    "print(f'MAPE: {Metrics.mean_absolute_percentage_error(y_test, y_pred_pf)}')\n",
    "print(f'R^2: {Metrics.r_2_score(y_test, y_pred_pf):.7f}')"
   ]
  },
  {
   "cell_type": "code",
   "execution_count": 208,
   "metadata": {},
   "outputs": [
    {
     "name": "stdout",
     "output_type": "stream",
     "text": [
      "501\n",
      "MAE: 605.4899449424622\n",
      "MSE: 12654692.575091526\n",
      "RMSE: 3557.343471621981\n",
      "MAPE: 1.2368453899949687\n",
      "R^2: 0.0000478\n"
     ]
    }
   ],
   "source": [
    "myLinearRegression = MyLinearRegression()\n",
    "model = myLinearRegression.fit(X_train_mms, y_train)\n",
    "y_pred_pf = myLinearRegression.predict(X_test_mms)\n",
    "print(f'MAE: {Metrics.mean_absolute_error(y_test, y_pred_pf)}')\n",
    "print(f'MSE: {Metrics.mean_squared_error(y_test, y_pred_pf)}')\n",
    "print(f'RMSE: {Metrics.root_mean_squared_error(y_test, y_pred_pf)}')\n",
    "print(f'MAPE: {Metrics.mean_absolute_percentage_error(y_test, y_pred_pf)}')\n",
    "print(f'R^2: {Metrics.r_2_score(y_test, y_pred_pf):.7f}')"
   ]
  },
  {
   "cell_type": "code",
   "execution_count": 209,
   "metadata": {},
   "outputs": [],
   "source": [
    "import numpy as np\n",
    "class MyRidge:\n",
    "    def __init__( self, learning_rate, iterations, alpha ) :\n",
    "        self.learning_rate = learning_rate        \n",
    "        self.iterations = iterations        \n",
    "        self.alpha = alpha\n",
    "\n",
    "    def transform_(self, x):\n",
    "        return np.concatenate((np.ones((len(x), 1)), x), axis = 1)\n",
    "\n",
    "    def loss_func(self, x, y):\n",
    "        return sum(y - np.dot(x, self.w)) ** 2  + self.alpha * (np.dot(self.w, self.w))/X.shape[0]\n",
    "\n",
    "    def fit(self, x, y):\n",
    "        dist = np.inf\n",
    "        eps = 1e-20\n",
    "        X = self.transform_(x)\n",
    "\n",
    "        self.w = np.zeros(X.shape[1])\n",
    "        iter = 0\n",
    "\n",
    "        while iter <= self.iterations:\n",
    "            loss = self.loss_func(X, y)\n",
    "            y_pred = self.predict(x)\n",
    "            dW = ( - ( 2 * ( X.T ).dot( y - y_pred ) ) +               \n",
    "               ( 2 * self.alpha * self.w ) ) / X.shape[0]\n",
    "            self.w = self.w - self.learning_rate * dW\n",
    "            dist = np.abs(loss - self.loss_func(X, y))\n",
    "            iter += 1\n",
    "            \n",
    "            if(dist <= eps):\n",
    "                break\n",
    "        print(iter)\n",
    "        return self\n",
    "        \n",
    "\n",
    "    def predict(self, x):\n",
    "        return np.dot(self.transform_(x), self.w)"
   ]
  },
  {
   "cell_type": "code",
   "execution_count": 210,
   "metadata": {},
   "outputs": [
    {
     "name": "stdout",
     "output_type": "stream",
     "text": [
      "1001\n",
      "MAE: 566.0066954176308\n",
      "MSE: 12560123.592313694\n",
      "RMSE: 3544.0264660853895\n",
      "MAPE: 1.3264896484737243\n",
      "R^2: 0.0000447\n"
     ]
    }
   ],
   "source": [
    "ridge = MyRidge(0.001, 1000, 1)\n",
    "model = ridge.fit(X_train_std, y_train)\n",
    "y_pred = ridge.predict(X_test_std)\n",
    "print(f'MAE: {Metrics.mean_absolute_error(y_test, y_pred)}')\n",
    "print(f'MSE: {Metrics.mean_squared_error(y_test, y_pred)}')\n",
    "print(f'RMSE: {Metrics.root_mean_squared_error(y_test, y_pred)}')\n",
    "print(f'MAPE: {Metrics.mean_absolute_percentage_error(y_test, y_pred)}')\n",
    "print(f'R^2: {Metrics.r_2_score(y_test, y_pred):.7f}')"
   ]
  },
  {
   "cell_type": "code",
   "execution_count": 212,
   "metadata": {},
   "outputs": [
    {
     "name": "stdout",
     "output_type": "stream",
     "text": [
      "1001\n",
      "MAE: 639.9604852426394\n",
      "MSE: 12621389.02691843\n",
      "RMSE: 3552.6594301900695\n",
      "MAPE: 1.4780404632534825\n",
      "R^2: 0.0000507\n",
      "R^2: -0.0000791\n"
     ]
    }
   ],
   "source": [
    "ridge = MyRidge(0.001, 1000, 1)\n",
    "model = ridge.fit(X_train_mms, y_train)\n",
    "y_pred = ridge.predict(X_test_mms)\n",
    "print(f'MAE: {Metrics.mean_absolute_error(y_test, y_pred)}')\n",
    "print(f'MSE: {Metrics.mean_squared_error(y_test, y_pred)}')\n",
    "print(f'RMSE: {Metrics.root_mean_squared_error(y_test, y_pred)}')\n",
    "print(f'MAPE: {Metrics.mean_absolute_percentage_error(y_test, y_pred)}')\n",
    "print(f'R^2: {Metrics.r_2_score(y_test, y_pred):.7f}')\n",
    "print(f'R^2: {r2_score(y_test, y_pred):.7f}')"
   ]
  }
 ],
 "metadata": {
  "kernelspec": {
   "display_name": "venv",
   "language": "python",
   "name": "python3"
  },
  "language_info": {
   "codemirror_mode": {
    "name": "ipython",
    "version": 3
   },
   "file_extension": ".py",
   "mimetype": "text/x-python",
   "name": "python",
   "nbconvert_exporter": "python",
   "pygments_lexer": "ipython3",
   "version": "3.9.6"
  },
  "orig_nbformat": 4,
  "vscode": {
   "interpreter": {
    "hash": "cc7558d8b538955255440c691f4d27b22048480a322d80a916b86607cd7dd3e4"
   }
  }
 },
 "nbformat": 4,
 "nbformat_minor": 2
}
